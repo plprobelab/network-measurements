{
 "cells": [
  {
   "cell_type": "markdown",
   "id": "b04b8ca3",
   "metadata": {},
   "source": [
    "# Python Binary Trie\n",
    "Github: [py-binary-trie](https://github.com/guillaumemichel/py-binary-trie)\n",
    "\n",
    "Pypi: [binary-trie](https://pypi.org/project/binary-trie/)\n",
    "\n",
    "Install with `pip install binary-trie`"
   ]
  },
  {
   "cell_type": "code",
   "execution_count": 2,
   "id": "df0c813c",
   "metadata": {},
   "outputs": [],
   "source": [
    "from binary_trie import Trie, bytes_to_bitstring, bitstring_to_bytes, int_to_bitstring, bitstring_to_int"
   ]
  },
  {
   "cell_type": "code",
   "execution_count": 3,
   "id": "3c55c1d4",
   "metadata": {},
   "outputs": [
    {
     "data": {
      "text/plain": [
       "True"
      ]
     },
     "execution_count": 3,
     "metadata": {},
     "output_type": "execute_result"
    }
   ],
   "source": [
    "trie = Trie()\n",
    "trie.add(\"0010\")\n",
    "trie.add(4*\"0\")\n",
    "trie.add(int_to_bitstring(3, l=4))\n",
    "trie.add(bytes_to_bitstring(b'\\x0e', l=4))"
   ]
  },
  {
   "cell_type": "code",
   "execution_count": 4,
   "id": "71b6cb08",
   "metadata": {},
   "outputs": [
    {
     "data": {
      "text/plain": [
       "True"
      ]
     },
     "execution_count": 4,
     "metadata": {},
     "output_type": "execute_result"
    }
   ],
   "source": [
    "trie.find(\"0010\") # True"
   ]
  },
  {
   "cell_type": "code",
   "execution_count": 5,
   "id": "c4f45b68",
   "metadata": {},
   "outputs": [
    {
     "data": {
      "text/plain": [
       "False"
      ]
     },
     "execution_count": 5,
     "metadata": {},
     "output_type": "execute_result"
    }
   ],
   "source": [
    "trie.find(\"0100\") # False"
   ]
  },
  {
   "cell_type": "markdown",
   "id": "72bbfad9",
   "metadata": {},
   "source": [
    "## Building a basic trie"
   ]
  },
  {
   "cell_type": "code",
   "execution_count": 6,
   "id": "6623b300",
   "metadata": {},
   "outputs": [],
   "source": [
    "t = Trie()\n",
    "\n",
    "nodeIDs = [2,3,4,6,7,9,11,13]\n",
    "for i in nodeIDs:\n",
    "    t.add(int_to_bitstring(i, 4))"
   ]
  },
  {
   "cell_type": "markdown",
   "id": "65d9ceef",
   "metadata": {},
   "source": [
    "<img title=\"a title\" alt=\"Alt text\" src=\"./trie.svg\">"
   ]
  },
  {
   "cell_type": "code",
   "execution_count": 8,
   "id": "e1b22189",
   "metadata": {},
   "outputs": [
    {
     "data": {
      "text/plain": [
       "False"
      ]
     },
     "execution_count": 8,
     "metadata": {},
     "output_type": "execute_result"
    }
   ],
   "source": [
    "t.find(\"0011\")\n",
    "t.find(\"0000\")"
   ]
  },
  {
   "cell_type": "code",
   "execution_count": 7,
   "id": "2e013681",
   "metadata": {},
   "outputs": [
    {
     "data": {
      "text/plain": [
       "['0100', '0111', '0110']"
      ]
     },
     "execution_count": 7,
     "metadata": {},
     "output_type": "execute_result"
    }
   ],
   "source": [
    "t.n_closest(\"0101\", 3)"
   ]
  },
  {
   "cell_type": "code",
   "execution_count": 8,
   "id": "853249e3",
   "metadata": {},
   "outputs": [
    {
     "data": {
      "text/plain": [
       "['0110', '0111', '0100', '0010', '0011', '1101', '1011', '1001']"
      ]
     },
     "execution_count": 8,
     "metadata": {},
     "output_type": "execute_result"
    }
   ],
   "source": [
    "t.n_closest(\"0110\", 8)"
   ]
  },
  {
   "cell_type": "markdown",
   "id": "296f2b6b",
   "metadata": {},
   "source": [
    "## IPFS nodes"
   ]
  },
  {
   "cell_type": "code",
   "execution_count": 9,
   "id": "83c1e4d2",
   "metadata": {},
   "outputs": [],
   "source": [
    "import csv\n",
    "\n",
    "filename = \"nebula-peers.csv\"\n",
    "with open(filename, 'r') as file:\n",
    "    nebula_peers = [line for line in csv.reader(file)]"
   ]
  },
  {
   "cell_type": "code",
   "execution_count": 10,
   "id": "d1e6b028",
   "metadata": {},
   "outputs": [],
   "source": [
    "import multihash as mh\n",
    "import hashlib as hl  \n",
    "\n",
    "def multihash_to_kad_id(peer_id: str) -> bytes:  \n",
    "    multi_hash = mh.from_b58_string(peer_id)\n",
    "    return hl.sha256(multi_hash).digest()\n",
    "\n",
    "# this should be a clean way (even if it could be done in less lines it is more readable)\n",
    "def xor_distance(bytes0: bytes, bytes1: bytes):\n",
    "    xor=bytearray()\n",
    "    maxlen=max(len(bytes0), len(bytes1))\n",
    "\n",
    "    for i in range(maxlen):\n",
    "        byte0 = bytes0[i if len(bytes0)>len(bytes1) else i-len(bytes1)+len(bytes0)] if i >= maxlen-len(bytes0) else 0\n",
    "        byte1 = bytes1[i if len(bytes1)>len(bytes0) else i-len(bytes0)+len(bytes1)] if i >= maxlen-len(bytes1) else 0\n",
    "        xor.append(byte0 ^ byte1)\n",
    "\n",
    "    return bytes(xor)\n",
    "\n",
    "def bit_string_to_bytes(s):\n",
    "    v = int(s, 2)\n",
    "    b = bytearray()\n",
    "    while v:\n",
    "        b.append(v & 0xff)\n",
    "        v >>= 8\n",
    "    return bytes(b[::-1])\n",
    "\n",
    "# get the corresponding k-bucket for the given XOR distance in bytes\n",
    "def bucket_number_for_distance(d: bytes) -> int:\n",
    "    count=0\n",
    "    # iterate on the bytes from left to right\n",
    "    for b in d:\n",
    "        # while the byte==0, add 8 (bits) to the counter\n",
    "        count+=8\n",
    "        if b!=0:\n",
    "            # at the first non null byte, shift right until this byte==0\n",
    "            while b!=0:\n",
    "                b>>=1\n",
    "                # for each right shift, remove 1 to counter\n",
    "                count-=1\n",
    "            break\n",
    "    # return the length of the byte string minus the number of leading 0 bits\n",
    "    return 256-(8*len(d)-count)\n",
    "\n",
    "\n",
    "class NebulaPeer:\n",
    "    def __init__(self, nebula_id, peer_id, neighbors_ids):\n",
    "        self.nebula_id = nebula_id\n",
    "        self.peer_id = peer_id\n",
    "        self.neighbors_ids = neighbors_ids\n",
    "        \n",
    "        self.key = multihash_to_kad_id(peer_id)\n",
    "        \n",
    "        self.alive = len(neighbors_ids)>0\n",
    "        \n",
    "        self.buckets = [[] for _ in range(257)]\n",
    "        self.neighbors = []\n",
    "        \n",
    "    def distance(self, p):\n",
    "        return xor_distance(self.key, p.key)\n",
    "        \n",
    "    def addNeighbor(self, peer):\n",
    "        self.neighbors.append(peer)\n",
    "        self.buckets[bucket_number_for_distance(self.distance(peer))].append(peer)\n",
    "        \n",
    "    def __str__(self):\n",
    "        return \"nebula_id: \"+str(self.nebula_id)+\", peer_id: \"+str(self.peer_id)+\", neighbors: \"+str(self.neighbors_ids)"
   ]
  },
  {
   "cell_type": "code",
   "execution_count": 11,
   "id": "516ec259",
   "metadata": {},
   "outputs": [],
   "source": [
    "peers = {line[0]: NebulaPeer(line[0], line[1], line[2:]) for line in nebula_peers}"
   ]
  },
  {
   "cell_type": "code",
   "execution_count": 12,
   "id": "e62754cc",
   "metadata": {},
   "outputs": [
    {
     "name": "stdout",
     "output_type": "stream",
     "text": [
      "30453\n"
     ]
    }
   ],
   "source": [
    "print(len(peers))"
   ]
  },
  {
   "cell_type": "code",
   "execution_count": 15,
   "id": "21d43c1d",
   "metadata": {},
   "outputs": [],
   "source": [
    "t = Trie()\n",
    "for p in peers:\n",
    "    t.add(bytes_to_bitstring(peers[p].key), metadata=peers[p])"
   ]
  },
  {
   "cell_type": "code",
   "execution_count": 20,
   "id": "c791f1ba",
   "metadata": {},
   "outputs": [
    {
     "data": {
      "text/plain": [
       "False"
      ]
     },
     "execution_count": 20,
     "metadata": {},
     "output_type": "execute_result"
    }
   ],
   "source": [
    "key=\"1111111111111100000111001011001111111110101001111001010111011011110010000111111100000100011100000000110110010001100101010100010000010010001100101000100111011100100101101110101011000011011111111101011001101001101111010011000001000010011001011010100001101100\"\n",
    "t.n_closest(key, 21)[1:]"
   ]
  },
  {
   "cell_type": "code",
   "execution_count": null,
   "id": "acc6065b",
   "metadata": {},
   "outputs": [],
   "source": []
  }
 ],
 "metadata": {
  "kernelspec": {
   "display_name": "Python 3 (ipykernel)",
   "language": "python",
   "name": "python3"
  },
  "language_info": {
   "codemirror_mode": {
    "name": "ipython",
    "version": 3
   },
   "file_extension": ".py",
   "mimetype": "text/x-python",
   "name": "python",
   "nbconvert_exporter": "python",
   "pygments_lexer": "ipython3",
   "version": "3.10.5"
  }
 },
 "nbformat": 4,
 "nbformat_minor": 5
}
