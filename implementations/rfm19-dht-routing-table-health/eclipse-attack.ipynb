{
 "cells": [
  {
   "cell_type": "markdown",
   "id": "ac09eed9",
   "metadata": {},
   "source": [
    "# Python imports"
   ]
  },
  {
   "cell_type": "code",
   "execution_count": 113,
   "id": "92fab5f3",
   "metadata": {},
   "outputs": [],
   "source": [
    "import csv, time\n",
    "import numpy as np\n",
    "import multihash as mh\n",
    "import hashlib as hl\n",
    "import matplotlib.pyplot as plt\n",
    "from binary_trie import Trie, bytes_to_bitstring, int_to_bitstring, bitstring_to_int"
   ]
  },
  {
   "cell_type": "markdown",
   "id": "a1142b0a",
   "metadata": {},
   "source": [
    "# Plot design"
   ]
  },
  {
   "cell_type": "code",
   "execution_count": 114,
   "id": "f47dc22a",
   "metadata": {},
   "outputs": [],
   "source": [
    "plt.rc('font', size=20)"
   ]
  },
  {
   "cell_type": "markdown",
   "id": "a1ae806c",
   "metadata": {},
   "source": [
    "# Helper functions and classes"
   ]
  },
  {
   "cell_type": "code",
   "execution_count": 115,
   "id": "c518b0af",
   "metadata": {},
   "outputs": [],
   "source": [
    "def multihash_to_kad_id(peer_id: str) -> bytes:  \n",
    "    multi_hash = mh.from_b58_string(peer_id)\n",
    "    return hl.sha256(multi_hash).digest()\n",
    "\n",
    "def xor_bitstring(bs0: str, bs1: str) -> str:\n",
    "    s = \"\"\n",
    "    if len(bs0) == len(bs1):\n",
    "        for i in range(len(bs0)):\n",
    "            if bs0[i]==bs1[i]:\n",
    "                s+='0'\n",
    "            else:\n",
    "                s+='1'\n",
    "    return s\n",
    "\n",
    "# this should be a clean way (even if it could be done in less lines it is more readable)\n",
    "def xor_distance(bytes0: bytes, bytes1: bytes):\n",
    "    xor=bytearray()\n",
    "    maxlen=max(len(bytes0), len(bytes1))\n",
    "\n",
    "    for i in range(maxlen):\n",
    "        byte0 = bytes0[i if len(bytes0)>len(bytes1) else i-len(bytes1)+len(bytes0)] if i >= maxlen-len(bytes0) else 0\n",
    "        byte1 = bytes1[i if len(bytes1)>len(bytes0) else i-len(bytes0)+len(bytes1)] if i >= maxlen-len(bytes1) else 0\n",
    "        xor.append(byte0 ^ byte1)\n",
    "\n",
    "    return bytes(xor)\n",
    "\n",
    "# get the corresponding k-bucket for the given XOR distance in bytes\n",
    "def bucket_number_for_distance(d: bytes) -> int:\n",
    "    count=0\n",
    "    # iterate on the bytes from left to right\n",
    "    for b in d:\n",
    "        # while the byte==0, add 8 (bits) to the counter\n",
    "        count+=8\n",
    "        if b!=0:\n",
    "            # at the first non null byte, shift right until this byte==0\n",
    "            while b!=0:\n",
    "                b>>=1\n",
    "                # for each right shift, remove 1 to counter\n",
    "                count-=1\n",
    "            break\n",
    "    # return the length of the byte string minus the number of leading 0 bits\n",
    "    return 256-(8*len(d)-count)\n"
   ]
  },
  {
   "cell_type": "code",
   "execution_count": 116,
   "id": "cb6d1955",
   "metadata": {},
   "outputs": [],
   "source": [
    "class NebulaPeer:\n",
    "    def __init__(self, nebula_id, peer_id, neighbors_ids):\n",
    "        self.nebula_id = nebula_id\n",
    "        self.peer_id = peer_id\n",
    "        self.neighbors_ids = neighbors_ids\n",
    "        \n",
    "        self.key = multihash_to_kad_id(peer_id)\n",
    "        \n",
    "        self.alive = len(neighbors_ids)>0\n",
    "        \n",
    "        self.buckets = [[] for _ in range(257)]\n",
    "        self.neighbors = {}\n",
    "        \n",
    "    def distance(self, p):\n",
    "        return xor_distance(self.key, p.key)\n",
    "        \n",
    "    def addNeighbor(self, peer):\n",
    "        if bytes_to_bitstring(peer.key) not in self.neighbors:\n",
    "            self.neighbors[bytes_to_bitstring(peer.key)]=(peer)\n",
    "            self.buckets[bucket_number_for_distance(self.distance(peer))].append(peer)\n",
    "        \n",
    "    def __str__(self):\n",
    "        return \"nebula_id: \"+str(self.nebula_id)+\", peer_id: \"+str(self.peer_id)+\", neighbors: \"+str(self.neighbors_ids)\n"
   ]
  },
  {
   "cell_type": "markdown",
   "id": "1a7d5f1d",
   "metadata": {},
   "source": [
    "# Gathering data for plots"
   ]
  },
  {
   "cell_type": "markdown",
   "id": "4bebd0a7",
   "metadata": {},
   "source": [
    "## Global variables used to collect data from the crawls before plotting it"
   ]
  },
  {
   "cell_type": "code",
   "execution_count": 117,
   "id": "4c4223b8",
   "metadata": {},
   "outputs": [],
   "source": [
    "peerids_distribution_data = []\n",
    "peerids_distribution_chunk88_data = [] # 1011000"
   ]
  },
  {
   "cell_type": "markdown",
   "id": "3536811e",
   "metadata": {},
   "source": [
    "## Routing table distribution in the k-buckets"
   ]
  },
  {
   "cell_type": "code",
   "execution_count": 118,
   "id": "ebe0fe1d",
   "metadata": {},
   "outputs": [],
   "source": [
    "levels=7\n",
    "\n",
    "def peerids_distribution(peers):\n",
    "    # getting the list of bitstrings for the given peerids\n",
    "    peerids = [bytes_to_bitstring(peers[p].key) for p in peers]\n",
    "    \n",
    "    trie = Trie()\n",
    "    for p in peerids:\n",
    "        trie.add(p)\n",
    "        \n",
    "    density=[0] * 2**levels\n",
    "\n",
    "    for i in range(2**levels):\n",
    "        path=\"{0:b}\".format(i)           # getting binary number\n",
    "        path='0'*(levels-len(path))+path # zero padding for constant size bitstring\n",
    "\n",
    "        density[i]=trie.find_trie(path).size\n",
    "        \n",
    "    peerids_distribution_data.append(density)\n",
    "    \n",
    "    levels88 = 4\n",
    "    density88 = [0] * 2**levels88\n",
    "    for i in range(2**levels88):\n",
    "        path=\"{0:b}\".format(i)           # getting binary number\n",
    "        path='0'*(levels88-len(path))+path # zero padding for constant size bitstring\n",
    "        path=int_to_bitstring(88,7)+path\n",
    "\n",
    "        for p in peerids:\n",
    "            if p[:len(path)] == path:\n",
    "                density88[i]+=1\n",
    "                \n",
    "        \n",
    "    peerids_distribution_chunk88_data.append(density88)\n",
    "\n",
    "    \"\"\"\n",
    "    THIS NEEDS TO HAVE A Trie.find_trie_or_child(key) FUNCTION OR Trie.subtrie_size(key) / Trie.keys_with_prefix()\n",
    "    \n",
    "    levels88 = 2\n",
    "    density88 = [0] * 2**levels88\n",
    "    for i in range(2**levels88):\n",
    "        path=\"{0:b}\".format(i)           # getting binary number\n",
    "        path='0'*(levels-len(path))+path # zero padding for constant size bitstring\n",
    "        path=int_to_bitstring(88,7)+path\n",
    "        \n",
    "        node = trie.find_trie(path)\n",
    "        density88[i]= 0 if node is None else node.size\n",
    "        \n",
    "    peerids_distribution_chunk88_data.append(density88)\n",
    "    \"\"\"\n"
   ]
  },
  {
   "cell_type": "markdown",
   "id": "5fd8e07a",
   "metadata": {},
   "source": [
    "# Loading data exctracted from the Nebula Crawler DB\n",
    "\n",
    "- `nebula_peerids` is a mapping from the Nebula ID to the peer ID for all hosts observed by Nebula over the time period `2022-02-16 10:30:01.706317+01` to `2022-05-03T13:01:17.238Z`\n",
    "\n",
    "- `all_crawls` is a list of `[crawl_id, nebula_id, peer_id, neighbor0, neighbor1, ... neighborN]` for all diable peers for the selected crawls."
   ]
  },
  {
   "cell_type": "code",
   "execution_count": 119,
   "id": "8446ee7d",
   "metadata": {},
   "outputs": [],
   "source": [
    "with open(\"data/all-peerids.csv\", 'r') as file:\n",
    "    nebula_peerids = {line[0]:line[1] for line in csv.reader(file)}"
   ]
  },
  {
   "cell_type": "code",
   "execution_count": 120,
   "id": "e48d2103",
   "metadata": {},
   "outputs": [],
   "source": [
    "filename = \"data/nebula-peers-2crawls.csv\""
   ]
  },
  {
   "cell_type": "code",
   "execution_count": 121,
   "id": "da13fbb9",
   "metadata": {},
   "outputs": [],
   "source": [
    "with open(filename, 'r') as file:\n",
    "    all_crawls = [line for line in csv.reader(file)]"
   ]
  },
  {
   "cell_type": "code",
   "execution_count": 122,
   "id": "6537596e",
   "metadata": {},
   "outputs": [
    {
     "name": "stdout",
     "output_type": "stream",
     "text": [
      "Crawl 3518 : 16837 alive peers crawled, time elapsed: 2.9209694862365723\n",
      "Crawl 3518 finished, stale peers: 5171 , total time elapsed: 92.43903732299805\n",
      "Crawl 3519 : 16908 alive peers crawled, time elapsed: 3.8053417205810547\n",
      "Crawl 3519 finished, stale peers: 5114 , total time elapsed: 96.47149705886841\n"
     ]
    }
   ],
   "source": [
    "crawl_id = all_crawls[0][0]\n",
    "peers = {}\n",
    "startTime = time.time()\n",
    "\n",
    "for i in range(len(all_crawls)):\n",
    "    entry = all_crawls[i]\n",
    "        \n",
    "    # add entry to peers\n",
    "    peers[entry[1]] = NebulaPeer(entry[1], entry[2], entry[3:])\n",
    "\n",
    "    if i == len(all_crawls)-1 or all_crawls[i+1][0] != crawl_id:\n",
    "        # do all computations for the crawl\n",
    "        print(\"Crawl\", crawl_id, \":\", len(peers),\"alive peers crawled, time elapsed:\", time.time() - startTime)\n",
    "        \n",
    "        # stale peers count\n",
    "        stale_count = 0\n",
    "        # define neighbor relationships\n",
    "        for p in peers.copy():\n",
    "            for n in peers[p].neighbors_ids:\n",
    "                if n not in peers:\n",
    "                    stale_count += 1\n",
    "                    peers[n] = NebulaPeer(n, nebula_peerids[n], [])\n",
    "                peers[p].addNeighbor(peers[n])\n",
    "\n",
    "        \n",
    "        peerids_distribution(peers)\n",
    "            \n",
    "        print(\"Crawl\", crawl_id, \"finished, stale peers:\", stale_count,\", total time elapsed:\", time.time() - startTime)\n",
    "        \n",
    "        # reset variables for next crawl\n",
    "        if i < len(all_crawls) - 1:\n",
    "            peers = {}\n",
    "            crawl_id = all_crawls[i+1][0]\n",
    "            startTime = time.time()\n",
    "        "
   ]
  },
  {
   "cell_type": "code",
   "execution_count": 123,
   "id": "c44c0d9d",
   "metadata": {},
   "outputs": [
    {
     "name": "stdout",
     "output_type": "stream",
     "text": [
      "[122, 137, 108, 124, 134, 121, 135, 98, 123, 129, 127, 145, 147, 135, 138, 128, 121, 136, 133, 135, 127, 125, 148, 147, 127, 128, 139, 115, 146, 128, 127, 122, 132, 129, 148, 116, 127, 153, 124, 140, 141, 146, 128, 115, 153, 149, 130, 139, 125, 131, 132, 140, 113, 129, 122, 142, 98, 137, 120, 145, 115, 125, 134, 117, 136, 110, 128, 161, 141, 129, 135, 117, 140, 122, 135, 131, 141, 126, 151, 124, 136, 140, 106, 121, 153, 127, 149, 118, 144, 132, 112, 123, 117, 146, 131, 140, 139, 136, 147, 136, 138, 127, 134, 132, 145, 125, 131, 137, 116, 130, 153, 142, 151, 130, 148, 113, 170, 128, 147, 153, 132, 138, 106, 128, 131, 122, 153, 118]\n",
      "[39, 30, 40, 46, 37, 24, 44, 37, 49, 36, 47, 31, 44, 42, 47, 38, 41, 46, 45, 30, 48, 45, 49, 40, 35, 31, 33, 47, 52, 35, 36, 34, 34, 38, 40, 27, 50, 44, 43, 41, 34, 37, 39, 39, 37, 40, 33, 41, 29, 40, 33, 37, 34, 40, 37, 30, 32, 41, 36, 31, 50, 40, 34, 41, 39, 27, 36, 50, 38, 51, 44, 38, 32, 40, 41, 36, 39, 45, 40, 43, 41, 29, 42, 37, 41, 36, 25, 51, 143, 35, 29, 26, 28, 33, 35, 31, 36, 31, 40, 37, 42, 34, 40, 34, 42, 36, 28, 52, 103, 50, 37, 46, 40, 43, 34, 37, 40, 39, 33, 42, 51, 38, 81, 34, 25, 47, 40, 21]\n"
     ]
    }
   ],
   "source": [
    "prefix = \"1011000\" # 88\n",
    "\n",
    "alive_count = [0]*2**len(prefix)\n",
    "dead_count = [0]*2**len(prefix)\n",
    "\n",
    "for i in range(2**len(prefix)):\n",
    "    path=\"{0:b}\".format(i)           # getting binary number\n",
    "    path='0'*(len(prefix)-len(path))+path # zero padding for constant size bitstring\n",
    "\n",
    "    for p in peers:\n",
    "        if bytes_to_bitstring(peers[p].key)[:len(path)] == path:\n",
    "            if peers[p].alive:\n",
    "                alive_count[i] += 1\n",
    "            else:\n",
    "                dead_count[i] += 1\n",
    "            \n",
    "print(alive_count)\n",
    "print(dead_count)"
   ]
  },
  {
   "cell_type": "code",
   "execution_count": 124,
   "id": "293db36c",
   "metadata": {},
   "outputs": [
    {
     "name": "stdout",
     "output_type": "stream",
     "text": [
      "144 143\n"
     ]
    }
   ],
   "source": [
    "print(alive_count[88], dead_count[88])"
   ]
  },
  {
   "cell_type": "code",
   "execution_count": 125,
   "id": "7c1a12fa",
   "metadata": {},
   "outputs": [
    {
     "name": "stdout",
     "output_type": "stream",
     "text": [
      "Average:             132.09\n",
      "Standard deviation:   12.73\n",
      "Max:                 170\n",
      "Min:                 98\n"
     ]
    }
   ],
   "source": [
    "print(\"Average:            \", round(np.average(alive_count),2))\n",
    "print(\"Standard deviation:  \", round(np.std(alive_count, ddof=1),2))\n",
    "print(\"Max:                \", max(alive_count))\n",
    "print(\"Min:                \", min(alive_count))"
   ]
  },
  {
   "cell_type": "code",
   "execution_count": 126,
   "id": "6728482c",
   "metadata": {},
   "outputs": [
    {
     "name": "stdout",
     "output_type": "stream",
     "text": [
      "Average:             39.95\n",
      "Standard deviation:   13.17\n",
      "Max:                 143\n",
      "Min:                 21\n"
     ]
    }
   ],
   "source": [
    "print(\"Average:            \", round(np.average(dead_count),2))\n",
    "print(\"Standard deviation:  \", round(np.std(dead_count, ddof=1),2))\n",
    "print(\"Max:                \", max(dead_count))\n",
    "print(\"Min:                \", min(dead_count))"
   ]
  },
  {
   "cell_type": "code",
   "execution_count": 127,
   "id": "271207e9",
   "metadata": {},
   "outputs": [],
   "source": [
    "prefixlen = 11\n",
    "\n",
    "alive_count_3 = [0]*2**prefixlen\n",
    "dead_count_3 = [0]*2**prefixlen\n",
    "all_count_3 = [0]*2**prefixlen\n",
    "\n",
    "for p in peers:\n",
    "    i = bitstring_to_int(bytes_to_bitstring(peers[p].key)[:prefixlen])\n",
    "    all_count_3[i] += 1\n",
    "    if peers[p].alive:\n",
    "        alive_count_3[i] += 1\n",
    "    else:\n",
    "        dead_count_3[i] += 1"
   ]
  },
  {
   "cell_type": "code",
   "execution_count": 128,
   "id": "e3469c11",
   "metadata": {},
   "outputs": [
    {
     "name": "stdout",
     "output_type": "stream",
     "text": [
      "6 86\n"
     ]
    }
   ],
   "source": [
    "print(alive_count_3[1417], dead_count_3[1417])"
   ]
  },
  {
   "cell_type": "code",
   "execution_count": 129,
   "id": "4947167e",
   "metadata": {},
   "outputs": [
    {
     "name": "stdout",
     "output_type": "stream",
     "text": [
      "Average:             8.26\n",
      "Standard deviation:   2.88\n",
      "Max:                 21\n",
      "Min:                 0\n"
     ]
    }
   ],
   "source": [
    "print(\"Average:            \", round(np.average(alive_count_3),2))\n",
    "print(\"Standard deviation:  \", round(np.std(alive_count_3, ddof=1),2))\n",
    "print(\"Max:                \", max(alive_count_3))\n",
    "print(\"Min:                \", min(alive_count_3))"
   ]
  },
  {
   "cell_type": "code",
   "execution_count": 130,
   "id": "fdb8dfda",
   "metadata": {},
   "outputs": [
    {
     "name": "stdout",
     "output_type": "stream",
     "text": [
      "Average:             2.5\n",
      "Standard deviation:   2.67\n",
      "Max:                 86\n",
      "Min:                 0\n"
     ]
    }
   ],
   "source": [
    "print(\"Average:            \", round(np.average(dead_count_3),2))\n",
    "print(\"Standard deviation:  \", round(np.std(dead_count_3, ddof=1),2))\n",
    "print(\"Max:                \", max(dead_count_3))\n",
    "print(\"Min:                \", min(dead_count_3))"
   ]
  },
  {
   "cell_type": "code",
   "execution_count": 141,
   "id": "7d40fce9",
   "metadata": {},
   "outputs": [
    {
     "name": "stdout",
     "output_type": "stream",
     "text": [
      "QmYEKvumiA1iTJGUaHbUScnLD4Ny1sPspD921az2jEajtD Qmb5ojxYF5JbNDddaDD4KRtxx2P75PBT1MbTme5zTKXX7d\n",
      "QmcLKA1NNYP8pzK7khgYPQCPf1ncHCkTa1N54uziowZGYW Qmb5ojxYF5JbNDddaDD4KRtxx2P75PBT1MbTme5zTKXX7d\n",
      "QmPLSgW1YZyvdB9KfwvkhFZcxKjY9DFbfksDweCTLa9hJw Qmb5ojxYF5JbNDddaDD4KRtxx2P75PBT1MbTme5zTKXX7d\n",
      "QmQyWkpBRVshokfbvRzu7R6VHY7MDHa74Wk9NtK4ijVTvi Qmb5ojxYF5JbNDddaDD4KRtxx2P75PBT1MbTme5zTKXX7d\n",
      "12D3KooWEZXjE41uU4EL2gpkAQeDXYok6wghN7wwNVPF5bwkaNfS 12D3KooWGCQPq4DBddRNpaGNaVS5hNrQDqaW4TxL7zFqoyaZNvJQ\n",
      "12D3KooWEZXjE41uU4EL2gpkAQeDXYok6wghN7wwNVPF5bwkaNfS 12D3KooWRPjdTMqj81RAkMM7MfH3tFeUnCEUNbN2fSKsmQdx7CRR\n",
      "12D3KooWEZXjE41uU4EL2gpkAQeDXYok6wghN7wwNVPF5bwkaNfS QmcLwvLnTpxm4Yf16f87TPBEH3RcC1GoPWZnqeXKFP49fx\n",
      "12D3KooWEZXjE41uU4EL2gpkAQeDXYok6wghN7wwNVPF5bwkaNfS QmdBAfV5B1GR44H7scPqJc3xoFxRpS2RzJf55nniENrzDF\n",
      "12D3KooWEZXjE41uU4EL2gpkAQeDXYok6wghN7wwNVPF5bwkaNfS QmYhssVQFGdGkGDtoghvwufkdP6kGDe5cBBJfrWWv7PASd\n",
      "12D3KooWEZXjE41uU4EL2gpkAQeDXYok6wghN7wwNVPF5bwkaNfS QmYsdAxprtLKKahryuThyPiRytgDZzc37JYD3ohySoQ7fR\n",
      "12D3KooWEZXjE41uU4EL2gpkAQeDXYok6wghN7wwNVPF5bwkaNfS 12D3KooWFx1JubSD2bSLdJv5rFGPaEsHPfrRkBMLyfWf7im8KKrQ\n",
      "12D3KooWEZXjE41uU4EL2gpkAQeDXYok6wghN7wwNVPF5bwkaNfS 12D3KooWDsh9sZMToeFBhrES3zTRiLB5CTGL9Fh7Hn26KvPNU1GG\n",
      "12D3KooWEZXjE41uU4EL2gpkAQeDXYok6wghN7wwNVPF5bwkaNfS 12D3KooWEtf432TaDLL6dvxc83tZLDzfHPPZzadrQqQSQFpeHwBA\n",
      "12D3KooWEZXjE41uU4EL2gpkAQeDXYok6wghN7wwNVPF5bwkaNfS Qmer2mGfKpk3Tn2JJGzidKo23zwZkAQosot3k1yM3gXUcG\n",
      "12D3KooWEZXjE41uU4EL2gpkAQeDXYok6wghN7wwNVPF5bwkaNfS 12D3KooWQHcH6FzGpAJV3WCChNrFGpLWrzdLNKJThs6tifaAZuw5\n",
      "12D3KooWEZXjE41uU4EL2gpkAQeDXYok6wghN7wwNVPF5bwkaNfS Qmcz17SvueMib54YeQ9RJNg54fMGHiPDZaExy9PyDzRmvU\n",
      "12D3KooWEZXjE41uU4EL2gpkAQeDXYok6wghN7wwNVPF5bwkaNfS 12D3KooWBbNxyEjiqY68VS4o5TLC9SaKrNmHLzjxmaVKfwYULMu7\n",
      "12D3KooWEZXjE41uU4EL2gpkAQeDXYok6wghN7wwNVPF5bwkaNfS QmStxeaWdXNrUVASHPi2EqLavtXpDoBZQ4nwzkRri95Nxs\n",
      "12D3KooWEZXjE41uU4EL2gpkAQeDXYok6wghN7wwNVPF5bwkaNfS 12D3KooWJxk9gVimXGbPwsNQUdqxLdUdKJJF2Efyb4EjnLR7yX89\n",
      "12D3KooWEZXjE41uU4EL2gpkAQeDXYok6wghN7wwNVPF5bwkaNfS QmcViQEwNXpEGxkbLMMexYMQNjUjzMJT1QktTFrydFGU2T\n",
      "12D3KooWEZXjE41uU4EL2gpkAQeDXYok6wghN7wwNVPF5bwkaNfS 12D3KooWLT2DgyZhAi4c7JCwRr1rS3Rz2DAjVR7kqjAdd4gu9XKy\n",
      "12D3KooWEZXjE41uU4EL2gpkAQeDXYok6wghN7wwNVPF5bwkaNfS QmRjpN29cVF7sjiTeCHMFhyGXQBJ5mG4og6rxJeS4DASzJ\n",
      "12D3KooWEZXjE41uU4EL2gpkAQeDXYok6wghN7wwNVPF5bwkaNfS QmU542HewqzpRPnRvWgvWKTGVbX19MKUgB48jtqYLzUN4B\n",
      "12D3KooWEZXjE41uU4EL2gpkAQeDXYok6wghN7wwNVPF5bwkaNfS 12D3KooWCFkpLYKT279eXTw7v3z8KiqNd56YKHvcgp99E3mftrY7\n",
      "12D3KooWEZXjE41uU4EL2gpkAQeDXYok6wghN7wwNVPF5bwkaNfS 12D3KooWGSczwjAevZd9WXJke8pFDUZaFSE47UwxUiGbF4YrZNkA\n",
      "12D3KooWEZXjE41uU4EL2gpkAQeDXYok6wghN7wwNVPF5bwkaNfS QmUxT2CbmphdkmTW3GrVoXJWySF4bT4Z4zpyjk762odj2q\n",
      "12D3KooWEZXjE41uU4EL2gpkAQeDXYok6wghN7wwNVPF5bwkaNfS 12D3KooWR8yyD1X93XdkqziEbtFx3DgFZiNFNq4aqhaRUGcVSGdR\n",
      "12D3KooWEZXjE41uU4EL2gpkAQeDXYok6wghN7wwNVPF5bwkaNfS 12D3KooWQjtim5pvRrBqzFcb4DtGURgpTdP1RiCefZgfW92AtVcM\n",
      "12D3KooWEZXjE41uU4EL2gpkAQeDXYok6wghN7wwNVPF5bwkaNfS QmaSUMtdUub2gzit7ZHMPSarFQnj2ZHUjk7TDdM4ogKgoC\n",
      "12D3KooWEZXjE41uU4EL2gpkAQeDXYok6wghN7wwNVPF5bwkaNfS 12D3KooWJRtEqCEmR3tAiQBbRzb8wFCsdwsQpkt7th6NJTM5E7eE\n",
      "12D3KooWEZXjE41uU4EL2gpkAQeDXYok6wghN7wwNVPF5bwkaNfS Qmc5pvA8s1jtTEC5Wj1GVL1VCL5B5bHngFikeKG171sDpj\n",
      "12D3KooWEZXjE41uU4EL2gpkAQeDXYok6wghN7wwNVPF5bwkaNfS QmdfKcpzFAkWx3Lp7cJPp16ySNZk2jXqbDe96wPaNHhnCE\n",
      "12D3KooWEZXjE41uU4EL2gpkAQeDXYok6wghN7wwNVPF5bwkaNfS QmXv7LRoDJG6TkJNqeMHDQaybfkpnXsgnHxGMTTgC8xuqx\n",
      "12D3KooWEZXjE41uU4EL2gpkAQeDXYok6wghN7wwNVPF5bwkaNfS QmXwhtyJEWwosYMJss7F2Fk6dk8nqNhTRJtrkU4FivykvB\n",
      "12D3KooWEZXjE41uU4EL2gpkAQeDXYok6wghN7wwNVPF5bwkaNfS QmeaYCzEwJRmL9CBrjqJPywKNKUnP9KyK3V4N5Gj5EDSoj\n",
      "12D3KooWEZXjE41uU4EL2gpkAQeDXYok6wghN7wwNVPF5bwkaNfS QmVmMzqRy6TZ4XwpSipTAnEe7XMYaHvyrMbCcVSezrxwBV\n",
      "12D3KooWEZXjE41uU4EL2gpkAQeDXYok6wghN7wwNVPF5bwkaNfS QmWxCRjJihWTSBPeef4KFqJnwEw3A6eb54hRQTc5AgdAJF\n",
      "12D3KooWEZXjE41uU4EL2gpkAQeDXYok6wghN7wwNVPF5bwkaNfS 12D3KooWM21sqnQW5q18U4r7rESbkS1crbPWZ18gp1p83udChudr\n",
      "12D3KooWEZXjE41uU4EL2gpkAQeDXYok6wghN7wwNVPF5bwkaNfS 12D3KooWGZrSesrGqsc2MRJ4gsi9LeeFbzFa7XNWkdSXnHFVd615\n",
      "12D3KooWEZXjE41uU4EL2gpkAQeDXYok6wghN7wwNVPF5bwkaNfS 12D3KooWF4UkK8B4RJD7fJ63x5FGtWBoATpEZqvHmN53PTR8jJXd\n",
      "12D3KooWEZXjE41uU4EL2gpkAQeDXYok6wghN7wwNVPF5bwkaNfS QmZad9x222zMEUMcHnwRufbZGTiSpVCcX8F15bqdQC3dF3\n",
      "12D3KooWEZXjE41uU4EL2gpkAQeDXYok6wghN7wwNVPF5bwkaNfS 12D3KooWPKdAP1tLm6UCrpGvH6L3RN7BiafWMnhimBBCoxqZpZHK\n",
      "12D3KooWEZXjE41uU4EL2gpkAQeDXYok6wghN7wwNVPF5bwkaNfS QmReLnp84LBVgH5eX6Qp5roZhddfE3rskGF4orqevMYbxW\n",
      "12D3KooWEZXjE41uU4EL2gpkAQeDXYok6wghN7wwNVPF5bwkaNfS 12D3KooWDzKCzzfnfVZpyKdPkv3gmgfU4F28hfAADDABXx3PTHHu\n",
      "12D3KooWEZXjE41uU4EL2gpkAQeDXYok6wghN7wwNVPF5bwkaNfS QmeTb47ZwR7GVLudEKjYcKvsv4R8b6nBf2Hf9PcgFvAjcP\n",
      "12D3KooWEZXjE41uU4EL2gpkAQeDXYok6wghN7wwNVPF5bwkaNfS 12D3KooWEQdNPUXy8SgzCzji9oh5doBRFa668Yt8ehZXhUrWYLX3\n",
      "12D3KooWEZXjE41uU4EL2gpkAQeDXYok6wghN7wwNVPF5bwkaNfS 12D3KooWRSrG2ug8HMTh2jrwKmi7tGk7MiH4j38mLVo3oFZSHtNV\n",
      "12D3KooWEZXjE41uU4EL2gpkAQeDXYok6wghN7wwNVPF5bwkaNfS QmPUrFbjsVHjwcnHfoHt9Szx1Y4ZonCtDNkHwvSeKmuoyZ\n",
      "12D3KooWEZXjE41uU4EL2gpkAQeDXYok6wghN7wwNVPF5bwkaNfS QmPcTh5UZrGWoffKy769h6N1quz2Uc6tXESxxEuMwwin5t\n",
      "12D3KooWEZXjE41uU4EL2gpkAQeDXYok6wghN7wwNVPF5bwkaNfS 12D3KooWByJqatvMwd96cAoAv9tZorwtQiGus8QvJhbhJfx97x16\n",
      "12D3KooWEZXjE41uU4EL2gpkAQeDXYok6wghN7wwNVPF5bwkaNfS QmY6nAVKLHr4BgXXc6NpPg4T9bfDsACJtpeXKyfzoM8bGr\n",
      "12D3KooWEZXjE41uU4EL2gpkAQeDXYok6wghN7wwNVPF5bwkaNfS QmbNq95hWactSBQZEQLLrwrey6WBKJhYHwoEaMrbzensHH\n",
      "12D3KooWEZXjE41uU4EL2gpkAQeDXYok6wghN7wwNVPF5bwkaNfS 12D3KooWSdKjBFcULjzmm253wfvio7266kkmd9Ni9NdbY58evmrn\n",
      "12D3KooWEZXjE41uU4EL2gpkAQeDXYok6wghN7wwNVPF5bwkaNfS Qmc9rZc8juWhGw6xHXFUPw8ZeqMPDp6XhvibBQbsj6Z9DV\n",
      "12D3KooWEZXjE41uU4EL2gpkAQeDXYok6wghN7wwNVPF5bwkaNfS QmcjbNureyNLaVLpcM6gnPUCYARTc2KfyEjSZidJAqcD9U\n",
      "12D3KooWEZXjE41uU4EL2gpkAQeDXYok6wghN7wwNVPF5bwkaNfS QmUck9gFMWen3zUyk1PDjMZEfzqXDbZenQbVSCQFBqBiw6\n",
      "12D3KooWEZXjE41uU4EL2gpkAQeDXYok6wghN7wwNVPF5bwkaNfS QmXFUcDb7XzpSexqznNN9Dn9JZL5YytmtiLz4cSKn2t8oL\n",
      "12D3KooWEZXjE41uU4EL2gpkAQeDXYok6wghN7wwNVPF5bwkaNfS QmVq3aYv4XQ1KgnWAo31zEi3jC4LUzY7fUFTF3cG9435jd\n",
      "12D3KooWEZXjE41uU4EL2gpkAQeDXYok6wghN7wwNVPF5bwkaNfS QmcHRsY36WWzoobruWe56Ysi5K3yaS9w6b51C8esqTJDuQ\n",
      "12D3KooWEZXjE41uU4EL2gpkAQeDXYok6wghN7wwNVPF5bwkaNfS 12D3KooWKjVXDtjCJW21TZnJWLt5ZrLsJaZBz1ZzQ7tdCXaGhHtV\n",
      "12D3KooWEZXjE41uU4EL2gpkAQeDXYok6wghN7wwNVPF5bwkaNfS 12D3KooWLczzibYeaC8uyb8XvxN3TGt9wBsvL14F73srmpsZ72LQ\n",
      "12D3KooWEZXjE41uU4EL2gpkAQeDXYok6wghN7wwNVPF5bwkaNfS QmWZumeMRjHbD3Do2HVRPTbvue5sHz3PNnRSms4t46rE7H\n",
      "12D3KooWEZXjE41uU4EL2gpkAQeDXYok6wghN7wwNVPF5bwkaNfS 12D3KooWMioqJREXkDqsbFAe9kZpZze7yXszDbG17QYT2vpY9eD9\n",
      "12D3KooWEZXjE41uU4EL2gpkAQeDXYok6wghN7wwNVPF5bwkaNfS QmYtaKHvUgMwTz61dysckbkqTyuzTRrFAjmGUEr7CMBq3Y\n",
      "12D3KooWEZXjE41uU4EL2gpkAQeDXYok6wghN7wwNVPF5bwkaNfS QmWUgtfxZHBUKY5tePcka6zTkjdHhwzTnxqJdsdKHCZEv7\n",
      "12D3KooWEZXjE41uU4EL2gpkAQeDXYok6wghN7wwNVPF5bwkaNfS 12D3KooWFieJbED56rXmGvy12ig4uk4Yc1cjTcHjJWvegM4sktZc\n",
      "12D3KooWEZXjE41uU4EL2gpkAQeDXYok6wghN7wwNVPF5bwkaNfS 12D3KooWNw7i85XDzczeGGrbBwS6v87EGDe1LwPYquNJVue2NaUB\n",
      "12D3KooWEZXjE41uU4EL2gpkAQeDXYok6wghN7wwNVPF5bwkaNfS 12D3KooWRyzKWWfXeMBnpAvGSQ1iQBXspb47o4ecoqCpvAnQewuD\n",
      "12D3KooWEZXjE41uU4EL2gpkAQeDXYok6wghN7wwNVPF5bwkaNfS QmbLu7ZeAAdoKZ5KZzRUnVruz1iwq5Kq1jijPDqQhPQRo8\n",
      "12D3KooWEZXjE41uU4EL2gpkAQeDXYok6wghN7wwNVPF5bwkaNfS 12D3KooWN4eLzCDbezwKSDwTvPDf78HVz7fsEic7ZYxxUC6nZDXq\n",
      "12D3KooWEZXjE41uU4EL2gpkAQeDXYok6wghN7wwNVPF5bwkaNfS QmQ3qNsQHJ9PKKwLb2eAToY6GSyBf8p2basLqwMfmrpGrZ\n",
      "12D3KooWEZXjE41uU4EL2gpkAQeDXYok6wghN7wwNVPF5bwkaNfS QmZWiLHppKUjjkuqqJBe69tnyis2epzYM3Pr2ugjZHkua6\n",
      "12D3KooWEZXjE41uU4EL2gpkAQeDXYok6wghN7wwNVPF5bwkaNfS 12D3KooWR3AMGcXanHAVQc73PZeeWCLYnGsGWcXpKvc7PHfex6wf\n",
      "12D3KooWEZXjE41uU4EL2gpkAQeDXYok6wghN7wwNVPF5bwkaNfS 12D3KooWJ4iQF5vVrfCJoTStz3YSSqpJ7MHz6bjbpLB6WJqGF7TY\n",
      "12D3KooWEZXjE41uU4EL2gpkAQeDXYok6wghN7wwNVPF5bwkaNfS QmXkXTE63B364EGnemtqqXpAsAdji8PvcisBRP7TfTekHh\n",
      "12D3KooWEZXjE41uU4EL2gpkAQeDXYok6wghN7wwNVPF5bwkaNfS 12D3KooWC6vehGyFfG8WhiKFmojsHN7PyEV9p7yTEP4vFMBfVmBT\n",
      "12D3KooWEZXjE41uU4EL2gpkAQeDXYok6wghN7wwNVPF5bwkaNfS QmPPJnaxH5QZii31zXzgo7EVs7uzxXpjn51oL6pJLBQjJ5\n",
      "12D3KooWEZXjE41uU4EL2gpkAQeDXYok6wghN7wwNVPF5bwkaNfS QmSDTJShtB2juewQ3FPtz4XPnQyFAuYcSq5cBAgWKPzR3U\n",
      "12D3KooWEZXjE41uU4EL2gpkAQeDXYok6wghN7wwNVPF5bwkaNfS QmaQVCubHUKbsSN8jNGvURzKdxitnkUvaummNpVdQQHSCM\n",
      "12D3KooWEZXjE41uU4EL2gpkAQeDXYok6wghN7wwNVPF5bwkaNfS QmR8EDpC4y5WF6gF4FjsfqKjNSMHLXD4jPd3Pa5sHwKpgj\n",
      "12D3KooWEZXjE41uU4EL2gpkAQeDXYok6wghN7wwNVPF5bwkaNfS Qmbxapb7YorLzH1PahGS2J4tLN1auqd2W1uTk5D6E9W5jV\n",
      "12D3KooWEZXjE41uU4EL2gpkAQeDXYok6wghN7wwNVPF5bwkaNfS 12D3KooWGCESUdEZDhr252XjTvFWNp7Nt3HugZdJmLBPQmQdAQAu\n",
      "12D3KooWEZXjE41uU4EL2gpkAQeDXYok6wghN7wwNVPF5bwkaNfS QmdpmgD1CmEfgsZZyKSLLq4do1bVVyjJUnQZj5fkvNzQ53\n",
      "12D3KooWEZXjE41uU4EL2gpkAQeDXYok6wghN7wwNVPF5bwkaNfS 12D3KooWHK6TUrj2aXaYs5sNhSSXNSb5ZmQ4ywkJHJXiE1X4PjKQ\n",
      "12D3KooWEZXjE41uU4EL2gpkAQeDXYok6wghN7wwNVPF5bwkaNfS QmZ7q8pj6433T1JZp34A22k7AVYNZhed8dHnafMsELSgN7\n",
      "12D3KooWEZXjE41uU4EL2gpkAQeDXYok6wghN7wwNVPF5bwkaNfS QmbzARNeypE4c61G1io2LFmQrJudSLHXiAsyUbz2XceULj\n",
      "12D3KooWEZXjE41uU4EL2gpkAQeDXYok6wghN7wwNVPF5bwkaNfS 12D3KooWDHqX9gPeuxBTBsaC7FAx3kFSnLc4zudgQ17TGXRFP6ys\n",
      "12D3KooWEZXjE41uU4EL2gpkAQeDXYok6wghN7wwNVPF5bwkaNfS QmTkVtoirMhRBojSLvDpUL2PZNcj9wJ6yJe5CWPzYSQDhh\n",
      "12D3KooWEZXjE41uU4EL2gpkAQeDXYok6wghN7wwNVPF5bwkaNfS 12D3KooWJHQGufpJ714GYP3qiDY9R1UY5peiVkqgZVdscMH7gaNQ\n",
      "QmZbnkCCjgLR2sAzoVt8c5WeAC6hohneHPiSZ5yXqyN4T4 Qmb5ojxYF5JbNDddaDD4KRtxx2P75PBT1MbTme5zTKXX7d\n"
     ]
    },
    {
     "name": "stdout",
     "output_type": "stream",
     "text": [
      "QmbXg2KF73yG1bwUNgBaGXKebsjRhpYGAzn7YmpKpoN2Qm Qmb5ojxYF5JbNDddaDD4KRtxx2P75PBT1MbTme5zTKXX7d\n",
      "QmbXg2KF73yG1bwUNgBaGXKebsjRhpYGAzn7YmpKpoN2Qm 12D3KooWNw7i85XDzczeGGrbBwS6v87EGDe1LwPYquNJVue2NaUB\n",
      "Qmc4nxkusXhLpFByWGYgqU2CU3pZj1SPp7WSMFhbThvUg1 Qmb5ojxYF5JbNDddaDD4KRtxx2P75PBT1MbTme5zTKXX7d\n",
      "QmdrZ1p51zTdnHJu1B7YtqhS6Dc8MhRk5sJtcQG1jXm2X2 Qmb5ojxYF5JbNDddaDD4KRtxx2P75PBT1MbTme5zTKXX7d\n",
      "QmZ88mjiSZues7apNEusDrExxJqrLyJH9YQtHaiuR8MKEB Qmb5ojxYF5JbNDddaDD4KRtxx2P75PBT1MbTme5zTKXX7d\n",
      "Qmbm7Cp3CdoAY3Qs2pq94pLpLinr71hCG2HhoBzNUHKmZv Qmb5ojxYF5JbNDddaDD4KRtxx2P75PBT1MbTme5zTKXX7d\n",
      "QmRYmSt1U6F7YekvbAXEMkwicsvPyKm5ZxZ1quRauzcxof Qmb5ojxYF5JbNDddaDD4KRtxx2P75PBT1MbTme5zTKXX7d\n",
      "QmeAsfURmGYsHNfBi5YKxno3uXP6w44CTqrdJnESYmegec Qmb5ojxYF5JbNDddaDD4KRtxx2P75PBT1MbTme5zTKXX7d\n",
      "QmNvmCewqsXvCMrwa1g4cN1ufADVVgHGQ7Evk1f9mKF41o Qmb5ojxYF5JbNDddaDD4KRtxx2P75PBT1MbTme5zTKXX7d\n",
      "Qme3o7QrxMcQ9ThQr4Vbh7yjqBmkV9sKPUfaezS6bGSbo9 Qmb5ojxYF5JbNDddaDD4KRtxx2P75PBT1MbTme5zTKXX7d\n",
      "QmUBuB3BDBbHjvuDcnLreAE8D8vR8pmDt5JEfT1L9pBryz Qmb5ojxYF5JbNDddaDD4KRtxx2P75PBT1MbTme5zTKXX7d\n",
      "QmdPqrqSaChFvFCac6ArmuhKKV3XW3JCYD4JavCtZnS2wL Qmb5ojxYF5JbNDddaDD4KRtxx2P75PBT1MbTme5zTKXX7d\n",
      "QmX39wTKSviXT4rViHTpN8n6acGoBSp49mf1FGrmePqVWQ Qmb5ojxYF5JbNDddaDD4KRtxx2P75PBT1MbTme5zTKXX7d\n",
      "QmUNcyoSrRwE4Y4B7CjTj4X3BTMdDJyxqbx75aE2rkkiNQ Qmb5ojxYF5JbNDddaDD4KRtxx2P75PBT1MbTme5zTKXX7d\n",
      "QmYCGpvLYG5XQyf575xyp3dgbNZtmNysUnKyfHYdLXna2R Qmb5ojxYF5JbNDddaDD4KRtxx2P75PBT1MbTme5zTKXX7d\n",
      "QmZWkAoEaedZWSKbYdKraCv8KVzi7FpNYDJUAPNifqZQfG Qmb5ojxYF5JbNDddaDD4KRtxx2P75PBT1MbTme5zTKXX7d\n",
      "QmU2cNL9yTuHmDUSavA2YRBpfxTPfDB7y1GdvxKs6TgHtL Qmb5ojxYF5JbNDddaDD4KRtxx2P75PBT1MbTme5zTKXX7d\n",
      "QmfMwwqBX7swRyDTJj8YQ5xLpHumL2MdUMqqNziozFh51V Qmb5ojxYF5JbNDddaDD4KRtxx2P75PBT1MbTme5zTKXX7d\n",
      "Qmc17qrLvegchbMG21DxSsCPdsbNKiGtBez3sJDP7MBFzu Qmb5ojxYF5JbNDddaDD4KRtxx2P75PBT1MbTme5zTKXX7d\n",
      "QmeqjZdz3SkneVLVv4oTjP5CDhpzaKaYFMyNwpjrjmuuyQ Qmb5ojxYF5JbNDddaDD4KRtxx2P75PBT1MbTme5zTKXX7d\n",
      "12D3KooWK3vjaNX6apVivxgDZ7LDHgDWBwCjBmbyeHesMy86EXzZ Qmb5ojxYF5JbNDddaDD4KRtxx2P75PBT1MbTme5zTKXX7d\n",
      "QmNMRfU1uitCPswHjhhkydkq1K6432n25dMzPRzfwzt5rR Qmb5ojxYF5JbNDddaDD4KRtxx2P75PBT1MbTme5zTKXX7d\n"
     ]
    }
   ],
   "source": [
    "prefix11 = \"10110001001\" # 1417\n",
    "\n",
    "count_Qmb5ojxYF5JbNDddaDD4KRtxx2P75PBT1MbTme5zTKXX7d = 0\n",
    "count_12D3KooWEZXjE41uU4EL2gpkAQeDXYok6wghN7wwNVPF5bwkaNfS = 0\n",
    "\n",
    "multihashes = []\n",
    "\n",
    "for p in peers:\n",
    "    for n in peers[p].neighbors:\n",
    "        if n[:len(prefix11)] == prefix11 and not peers[p].neighbors[n].alive:\n",
    "            \n",
    "            print(peers[p].peer_id, peers[p].neighbors[n].peer_id)\n",
    "            if peers[p].peer_id == \"12D3KooWEZXjE41uU4EL2gpkAQeDXYok6wghN7wwNVPF5bwkaNfS\":\n",
    "                count_12D3KooWEZXjE41uU4EL2gpkAQeDXYok6wghN7wwNVPF5bwkaNfS += 1\n",
    "                multihashes.append(peers[p].neighbors[n].peer_id)\n",
    "            if peers[p].neighbors[n].peer_id == \"Qmb5ojxYF5JbNDddaDD4KRtxx2P75PBT1MbTme5zTKXX7d\":\n",
    "                count_Qmb5ojxYF5JbNDddaDD4KRtxx2P75PBT1MbTme5zTKXX7d += 1"
   ]
  },
  {
   "cell_type": "code",
   "execution_count": 132,
   "id": "edaa0931",
   "metadata": {},
   "outputs": [
    {
     "name": "stdout",
     "output_type": "stream",
     "text": [
      "26\n",
      "85\n"
     ]
    }
   ],
   "source": [
    "print(count_Qmb5ojxYF5JbNDddaDD4KRtxx2P75PBT1MbTme5zTKXX7d)\n",
    "print(count_12D3KooWEZXjE41uU4EL2gpkAQeDXYok6wghN7wwNVPF5bwkaNfS)"
   ]
  },
  {
   "cell_type": "markdown",
   "id": "f32ea5fd",
   "metadata": {},
   "source": [
    "Dead peer in many (26) routing tables: `Qmb5ojxYF5JbNDddaDD4KRtxx2P75PBT1MbTme5zTKXX7d`\n",
    "\n",
    "Alive peer with many (85) stable routing table entries: `12D3KooWEZXjE41uU4EL2gpkAQeDXYok6wghN7wwNVPF5bwkaNfS`, nebula_id `2406`"
   ]
  },
  {
   "cell_type": "markdown",
   "id": "d2cec3a9",
   "metadata": {},
   "source": [
    "multi_hash,updated_at,created_at,id,protocols_set_id,agent_version_id\n",
    "12D3KooWEZXjE41uU4EL2gpkAQeDXYok6wghN7wwNVPF5bwkaNfS,1651424423239,1645003813811,2406,35,84\n",
    "\n",
    "protocols_set_id 35 -> 2,3,6,9,15\n",
    "\n",
    "Protocols: /ipfs/id/1.0.0, /ipfs/id/push/1.0.0, /libp2p/circuit/relay/0.2.0/hop, /ipfs/kad/1.0.0, /ipfs/ping/1.0.0\n",
    "\n",
    "User agent: rust-libp2p-server/0.5.2"
   ]
  },
  {
   "cell_type": "code",
   "execution_count": 133,
   "id": "ba3b6c53",
   "metadata": {},
   "outputs": [
    {
     "name": "stdout",
     "output_type": "stream",
     "text": [
      "0 20\n",
      "1 20\n",
      "2 20\n",
      "3 20\n",
      "4 20\n",
      "5 20\n",
      "6 20\n",
      "7 20\n",
      "8 20\n",
      "9 20\n",
      "10 20\n",
      "11 20\n",
      "12 20\n",
      "13 20\n",
      "14 13\n",
      "15 14\n",
      "16 1\n",
      "17 0\n",
      "18 2\n",
      "19 0\n",
      "20 0\n",
      "21 0\n",
      "22 0\n",
      "23 0\n",
      "24 0\n",
      "25 0\n",
      "26 0\n",
      "27 0\n",
      "28 0\n",
      "29 0\n",
      "30 0\n",
      "31 0\n",
      "32 0\n",
      "33 0\n",
      "34 0\n",
      "35 0\n",
      "36 0\n",
      "37 0\n",
      "38 0\n",
      "39 0\n",
      "40 0\n",
      "41 0\n",
      "42 0\n",
      "43 0\n",
      "44 0\n",
      "45 0\n",
      "46 0\n",
      "47 0\n",
      "48 0\n",
      "49 0\n",
      "50 0\n",
      "51 0\n",
      "52 0\n",
      "53 0\n",
      "54 0\n",
      "55 0\n",
      "56 0\n",
      "57 0\n",
      "58 0\n",
      "59 0\n",
      "60 0\n",
      "61 0\n",
      "62 0\n",
      "63 0\n",
      "64 0\n",
      "65 0\n",
      "66 0\n",
      "67 0\n",
      "68 0\n",
      "69 0\n",
      "70 0\n",
      "71 0\n",
      "72 0\n",
      "73 0\n",
      "74 0\n",
      "75 0\n",
      "76 0\n",
      "77 0\n",
      "78 0\n",
      "79 0\n",
      "80 0\n",
      "81 0\n",
      "82 0\n",
      "83 0\n",
      "84 0\n",
      "85 0\n",
      "86 0\n",
      "87 0\n",
      "88 0\n",
      "89 0\n",
      "90 0\n",
      "91 0\n",
      "92 0\n",
      "93 0\n",
      "94 0\n",
      "95 0\n",
      "96 0\n",
      "97 0\n",
      "98 0\n",
      "99 0\n",
      "100 0\n",
      "101 0\n",
      "102 0\n",
      "103 0\n",
      "104 0\n",
      "105 0\n",
      "106 0\n",
      "107 0\n",
      "108 0\n",
      "109 0\n",
      "110 0\n",
      "111 0\n",
      "112 0\n",
      "113 0\n",
      "114 0\n",
      "115 0\n",
      "116 0\n",
      "117 0\n",
      "118 0\n",
      "119 0\n",
      "120 0\n",
      "121 0\n",
      "122 0\n",
      "123 0\n",
      "124 0\n",
      "125 0\n",
      "126 0\n",
      "127 0\n",
      "128 0\n",
      "129 0\n",
      "130 0\n",
      "131 0\n",
      "132 0\n",
      "133 0\n",
      "134 0\n",
      "135 0\n",
      "136 0\n",
      "137 0\n",
      "138 0\n",
      "139 0\n",
      "140 0\n",
      "141 0\n",
      "142 0\n",
      "143 0\n",
      "144 0\n",
      "145 0\n",
      "146 0\n",
      "147 0\n",
      "148 0\n",
      "149 0\n",
      "150 0\n",
      "151 0\n",
      "152 0\n",
      "153 0\n",
      "154 0\n",
      "155 0\n",
      "156 0\n",
      "157 0\n",
      "158 0\n",
      "159 0\n",
      "160 0\n",
      "161 0\n",
      "162 0\n",
      "163 0\n",
      "164 0\n",
      "165 0\n",
      "166 0\n",
      "167 0\n",
      "168 0\n",
      "169 0\n",
      "170 0\n",
      "171 0\n",
      "172 0\n",
      "173 0\n",
      "174 0\n",
      "175 0\n",
      "176 0\n",
      "177 0\n",
      "178 0\n",
      "179 0\n",
      "180 0\n",
      "181 0\n",
      "182 0\n",
      "183 0\n",
      "184 0\n",
      "185 0\n",
      "186 0\n",
      "187 0\n",
      "188 0\n",
      "189 0\n",
      "190 0\n",
      "191 0\n",
      "192 0\n",
      "193 0\n",
      "194 0\n",
      "195 0\n",
      "196 0\n",
      "197 0\n",
      "198 0\n",
      "199 0\n",
      "200 0\n",
      "201 0\n",
      "202 0\n",
      "203 0\n",
      "204 0\n",
      "205 0\n",
      "206 0\n",
      "207 0\n",
      "208 0\n",
      "209 0\n",
      "210 0\n",
      "211 0\n",
      "212 0\n",
      "213 0\n",
      "214 0\n",
      "215 0\n",
      "216 0\n",
      "217 0\n",
      "218 0\n",
      "219 0\n",
      "220 0\n",
      "221 0\n",
      "222 0\n",
      "223 0\n",
      "224 0\n",
      "225 0\n",
      "226 0\n",
      "227 0\n",
      "228 0\n",
      "229 0\n",
      "230 0\n",
      "231 0\n",
      "232 0\n",
      "233 0\n",
      "234 0\n",
      "235 0\n",
      "236 0\n",
      "237 0\n",
      "238 0\n",
      "239 0\n",
      "240 0\n",
      "241 0\n",
      "242 0\n",
      "243 0\n",
      "244 0\n",
      "245 0\n",
      "246 0\n",
      "247 0\n",
      "248 0\n",
      "249 0\n",
      "250 0\n",
      "251 0\n",
      "252 0\n",
      "253 0\n",
      "254 0\n",
      "255 0\n",
      "256 0\n",
      "1011000100111010110101010000011000110011010110110111111101101000110100111000111011111000111111010000011110000001101100100111001101000011111010101110001010000000001100001010101111111110110000110001001011110110000001001101000011101110000110101110101110100010\n",
      "True\n",
      "121\n"
     ]
    }
   ],
   "source": [
    "all_dead_count = 0\n",
    "\n",
    "for p in peers:\n",
    "    if peers[p].peer_id == \"12D3KooWEZXjE41uU4EL2gpkAQeDXYok6wghN7wwNVPF5bwkaNfS\":\n",
    "        for n in peers[p].neighbors:\n",
    "            if not peers[p].neighbors[n].alive:\n",
    "                all_dead_count += 1\n",
    "                \n",
    "        for i in range(len(peers[p].buckets)):\n",
    "            print(i, len(peers[p].buckets[i]))\n",
    "        print(bytes_to_bitstring(peers[p].key))\n",
    "        print(bytes_to_bitstring(peers[p].key)[:len(prefix11)]==prefix11)\n",
    "print(all_dead_count)"
   ]
  },
  {
   "cell_type": "markdown",
   "id": "af43ed5f",
   "metadata": {},
   "source": [
    "Is the node never clearing its routing table stale entries???"
   ]
  },
  {
   "cell_type": "code",
   "execution_count": 134,
   "id": "ae1e7838",
   "metadata": {},
   "outputs": [],
   "source": [
    "all_dead_count_2 = {}\n",
    "bucket_filling_2 = [[] for _ in range(257)]\n",
    "for p in peers:\n",
    "    all_dead_count_2[p] = 0\n",
    "    for n in peers[p].neighbors:\n",
    "        if not peers[p].neighbors[n].alive:\n",
    "            all_dead_count_2[p] += 1\n",
    "    for i in range(len(peers[p].buckets)):\n",
    "        bucket_filling_2[i].append(len(peers[p].buckets[i]))\n",
    "                "
   ]
  },
  {
   "cell_type": "code",
   "execution_count": 135,
   "id": "635bbfb2",
   "metadata": {
    "scrolled": true
   },
   "outputs": [],
   "source": [
    "bucket15 = bucket_filling_2[15]"
   ]
  },
  {
   "cell_type": "code",
   "execution_count": 136,
   "id": "34fc4d82",
   "metadata": {},
   "outputs": [
    {
     "name": "stdout",
     "output_type": "stream",
     "text": [
      "hi\n"
     ]
    }
   ],
   "source": [
    "for i in range(len(bucket15)):\n",
    "    if bucket15[i]==14:\n",
    "        print(\"hi\")\n"
   ]
  },
  {
   "cell_type": "code",
   "execution_count": 137,
   "id": "ceb526b0",
   "metadata": {},
   "outputs": [],
   "source": [
    "bucket15.remove(14)"
   ]
  },
  {
   "cell_type": "code",
   "execution_count": 138,
   "id": "2f1e9892",
   "metadata": {},
   "outputs": [
    {
     "data": {
      "text/plain": [
       "4"
      ]
     },
     "execution_count": 138,
     "metadata": {},
     "output_type": "execute_result"
    }
   ],
   "source": [
    "max(bucket15)"
   ]
  },
  {
   "cell_type": "code",
   "execution_count": 139,
   "id": "816f0f3e",
   "metadata": {},
   "outputs": [
    {
     "name": "stdout",
     "output_type": "stream",
     "text": [
      "Average:             0.22\n",
      "Standard deviation:   0.49\n",
      "Max:                 4\n",
      "Min:                 0\n"
     ]
    }
   ],
   "source": [
    "print(\"Average:            \", round(np.average(bucket15),2))\n",
    "print(\"Standard deviation:  \", round(np.std(bucket15, ddof=1),2))\n",
    "print(\"Max:                \", max(bucket15))\n",
    "print(\"Min:                \", min(bucket15))"
   ]
  },
  {
   "cell_type": "code",
   "execution_count": 140,
   "id": "ec972656",
   "metadata": {},
   "outputs": [],
   "source": [
    "# testing\n",
    "\n",
    "peerids_distribution(peers)"
   ]
  },
  {
   "cell_type": "code",
   "execution_count": 168,
   "id": "9ff76c51",
   "metadata": {},
   "outputs": [],
   "source": [
    "import psycopg2\n",
    "\n",
    "conn = psycopg2.connect(\"host=127.0.0.1 dbname=nebula_ipfs_2022_05_03 user=postgres\")\n",
    "cur = conn.cursor()\n",
    "\n",
    "ips = {} # ip:occurences (1 occurence per multiash)\n",
    "maddrs_set = set()\n",
    "id_ip = {}\n",
    "id_maddr = {}\n",
    "for mh in multihashes:\n",
    "    cur.execute(\"select id from peers where multi_hash = '\"+mh+\"';\")\n",
    "    peerid = cur.fetchone()[0]\n",
    "    \n",
    "    cur.execute(\"select distinct(multi_addresses_set_id) from visits where peer_id = \"+str(peerid)+\";\")\n",
    "    masets_results = cur.fetchall()\n",
    "    \n",
    "    masets = []\n",
    "    for i in masets_results:\n",
    "        for j in i:\n",
    "            masets.append(j)\n",
    "    \n",
    "    ma_ids_results = [[] for _ in range(len(masets))]\n",
    "    i = 0\n",
    "    for maset in masets:\n",
    "        cur.execute(\"select multi_address_ids from multi_addresses_sets where id = \"+str(maset)+\";\")\n",
    "        ma_ids_results[i] = cur.fetchall()\n",
    "        i += 1\n",
    "        \n",
    "    ma_ids = []\n",
    "    for i in ma_ids_results:\n",
    "        for j in i:\n",
    "            for k in j:\n",
    "                for l in k:\n",
    "                    ma_ids.append(l)\n",
    "                        \n",
    "    #print(ma_ids)\n",
    "    \n",
    "    maddrs_results = [[] for _ in range(len(ma_ids))]\n",
    "    i = 0\n",
    "    for ma_id in ma_ids:\n",
    "        cur.execute(\"select maddr from multi_addresses where id = \"+str(ma_id)+\";\")\n",
    "        maddrs_results[i] = cur.fetchall()\n",
    "        i += 1\n",
    "        \n",
    "    maddrs = []\n",
    "    for i in maddrs_results:\n",
    "        for j in i:\n",
    "            for k in j:\n",
    "                maddrs.append(k)\n",
    "                \n",
    "    #print(maddrs)\n",
    "    my_ips = set()\n",
    "    \n",
    "    for ma in maddrs:\n",
    "        maddrs_set.add(ma)\n",
    "        if ma[:5] == '/ip4/' or ma[:5] == '/ip6/':\n",
    "            ip = ma[5:]\n",
    "            ip = ip[:ip.find('/')]\n",
    "            my_ips.add(ip)\n",
    "        else:\n",
    "            print(ma)\n",
    "        \n",
    "    id_ip[mh]=my_ips\n",
    "    id_maddr[mh]=maddrs\n",
    "    for i in my_ips:\n",
    "        if i in ips:\n",
    "            ips[i]+=1\n",
    "        else:\n",
    "            ips[i]=1\n"
   ]
  },
  {
   "cell_type": "code",
   "execution_count": 170,
   "id": "45795c2b",
   "metadata": {},
   "outputs": [
    {
     "name": "stdout",
     "output_type": "stream",
     "text": [
      "147.75.195.153 5\n",
      "149.202.42.82 2\n",
      "119.202.151.6 2\n",
      "147.75.70.221 2\n"
     ]
    }
   ],
   "source": [
    "for i in ips:\n",
    "    if ips[i]>1:\n",
    "        print(i, ips[i])"
   ]
  },
  {
   "cell_type": "code",
   "execution_count": 187,
   "id": "6de7e7ba",
   "metadata": {},
   "outputs": [
    {
     "name": "stdout",
     "output_type": "stream",
     "text": [
      "12D3KooWEtf432TaDLL6dvxc83tZLDzfHPPZzadrQqQSQFpeHwBA\n",
      "12D3KooWJxk9gVimXGbPwsNQUdqxLdUdKJJF2Efyb4EjnLR7yX89\n",
      "QmWxCRjJihWTSBPeef4KFqJnwEw3A6eb54hRQTc5AgdAJF\n",
      "QmeTb47ZwR7GVLudEKjYcKvsv4R8b6nBf2Hf9PcgFvAjcP\n",
      "QmXFUcDb7XzpSexqznNN9Dn9JZL5YytmtiLz4cSKn2t8oL\n"
     ]
    }
   ],
   "source": [
    "for mh in id_ip:\n",
    "    if \"147.75.195.153\" in id_ip[mh]:\n",
    "        print(mh)"
   ]
  },
  {
   "cell_type": "code",
   "execution_count": 172,
   "id": "e79b9996",
   "metadata": {},
   "outputs": [],
   "source": [
    "all_ips = [i for i in ips]"
   ]
  },
  {
   "cell_type": "code",
   "execution_count": 188,
   "id": "727c47f9",
   "metadata": {},
   "outputs": [],
   "source": [
    "countries = {}\n",
    "ip_country = {}\n",
    "\n",
    "for ip in all_ips:\n",
    "    cur.execute(\"select country from ip_addresses where address = '\"+ip+\"';\")\n",
    "    res = cur.fetchone()\n",
    "    if len(res[0])==0:\n",
    "        continue\n",
    "    ip_country[ip]=res[0]\n",
    "    if res[0] in countries:\n",
    "        countries[res[0]] += 1\n",
    "    else:\n",
    "        countries[res[0]] = 1"
   ]
  },
  {
   "cell_type": "code",
   "execution_count": 184,
   "id": "4d81f577",
   "metadata": {},
   "outputs": [],
   "source": [
    "countries_list = sorted(countries.items(), key=lambda x:x[1], reverse=True)"
   ]
  },
  {
   "cell_type": "code",
   "execution_count": 186,
   "id": "25b4dd7a",
   "metadata": {},
   "outputs": [
    {
     "name": "stdout",
     "output_type": "stream",
     "text": [
      "CN : 196\n",
      "BR : 23\n",
      "KR : 16\n",
      "TW : 15\n",
      "US : 9\n",
      "HK : 7\n",
      "MY : 7\n",
      "JP : 6\n",
      "CA : 5\n",
      "UA : 4\n",
      "FR : 3\n",
      "SG : 2\n",
      "RU : 2\n",
      "DE : 2\n",
      "CO : 1\n",
      "LV : 1\n",
      "NL : 1\n",
      "KW : 1\n",
      "RS : 1\n",
      "BG : 1\n",
      "SE : 1\n",
      "AR : 1\n"
     ]
    }
   ],
   "source": [
    "for c in countries_list:\n",
    "    print(c[0]+\" : \"+str(c[1]))"
   ]
  },
  {
   "cell_type": "code",
   "execution_count": 191,
   "id": "61b3c757",
   "metadata": {},
   "outputs": [],
   "source": [
    "mh_country = {}\n",
    "for mh in id_ip:\n",
    "    country = {}\n",
    "    for ip in id_ip[mh]:\n",
    "        if ip in ip_country:\n",
    "            cnt = ip_country[ip]\n",
    "        else:\n",
    "            cnt = '??'\n",
    "            \n",
    "        if cnt in country:\n",
    "            country[cnt] += 1\n",
    "        else:\n",
    "            country[cnt] = 1\n",
    "            \n",
    "    mh_country[mh] = country"
   ]
  },
  {
   "cell_type": "code",
   "execution_count": 192,
   "id": "a7f87f52",
   "metadata": {},
   "outputs": [
    {
     "data": {
      "text/plain": [
       "{'12D3KooWGCQPq4DBddRNpaGNaVS5hNrQDqaW4TxL7zFqoyaZNvJQ': {'SG': 2, '??': 1},\n",
       " '12D3KooWRPjdTMqj81RAkMM7MfH3tFeUnCEUNbN2fSKsmQdx7CRR': {'CN': 4},\n",
       " 'QmcLwvLnTpxm4Yf16f87TPBEH3RcC1GoPWZnqeXKFP49fx': {'TW': 1},\n",
       " 'QmdBAfV5B1GR44H7scPqJc3xoFxRpS2RzJf55nniENrzDF': {'RU': 1},\n",
       " 'QmYhssVQFGdGkGDtoghvwufkdP6kGDe5cBBJfrWWv7PASd': {'CO': 1},\n",
       " 'QmYsdAxprtLKKahryuThyPiRytgDZzc37JYD3ohySoQ7fR': {'US': 1},\n",
       " '12D3KooWFx1JubSD2bSLdJv5rFGPaEsHPfrRkBMLyfWf7im8KKrQ': {'CN': 5},\n",
       " '12D3KooWDsh9sZMToeFBhrES3zTRiLB5CTGL9Fh7Hn26KvPNU1GG': {'CN': 2},\n",
       " '12D3KooWEtf432TaDLL6dvxc83tZLDzfHPPZzadrQqQSQFpeHwBA': {'CN': 33, 'FR': 1},\n",
       " 'Qmer2mGfKpk3Tn2JJGzidKo23zwZkAQosot3k1yM3gXUcG': {'UA': 1},\n",
       " '12D3KooWQHcH6FzGpAJV3WCChNrFGpLWrzdLNKJThs6tifaAZuw5': {'KR': 4, '??': 1},\n",
       " 'Qmcz17SvueMib54YeQ9RJNg54fMGHiPDZaExy9PyDzRmvU': {'LV': 1},\n",
       " '12D3KooWBbNxyEjiqY68VS4o5TLC9SaKrNmHLzjxmaVKfwYULMu7': {'CN': 2},\n",
       " 'QmStxeaWdXNrUVASHPi2EqLavtXpDoBZQ4nwzkRri95Nxs': {'RU': 1},\n",
       " '12D3KooWJxk9gVimXGbPwsNQUdqxLdUdKJJF2Efyb4EjnLR7yX89': {'CN': 5, 'FR': 1},\n",
       " 'QmcViQEwNXpEGxkbLMMexYMQNjUjzMJT1QktTFrydFGU2T': {'UA': 1},\n",
       " '12D3KooWLT2DgyZhAi4c7JCwRr1rS3Rz2DAjVR7kqjAdd4gu9XKy': {'CN': 1},\n",
       " 'QmRjpN29cVF7sjiTeCHMFhyGXQBJ5mG4og6rxJeS4DASzJ': {'HK': 1},\n",
       " 'QmU542HewqzpRPnRvWgvWKTGVbX19MKUgB48jtqYLzUN4B': {'KR': 1},\n",
       " '12D3KooWCFkpLYKT279eXTw7v3z8KiqNd56YKHvcgp99E3mftrY7': {'DE': 1},\n",
       " '12D3KooWGSczwjAevZd9WXJke8pFDUZaFSE47UwxUiGbF4YrZNkA': {'JP': 6, 'CN': 2},\n",
       " 'QmUxT2CbmphdkmTW3GrVoXJWySF4bT4Z4zpyjk762odj2q': {'BR': 1},\n",
       " '12D3KooWR8yyD1X93XdkqziEbtFx3DgFZiNFNq4aqhaRUGcVSGdR': {'CN': 2},\n",
       " '12D3KooWQjtim5pvRrBqzFcb4DtGURgpTdP1RiCefZgfW92AtVcM': {'FR': 1},\n",
       " 'QmaSUMtdUub2gzit7ZHMPSarFQnj2ZHUjk7TDdM4ogKgoC': {'BR': 1},\n",
       " '12D3KooWJRtEqCEmR3tAiQBbRzb8wFCsdwsQpkt7th6NJTM5E7eE': {'DE': 1},\n",
       " 'Qmc5pvA8s1jtTEC5Wj1GVL1VCL5B5bHngFikeKG171sDpj': {'CA': 1},\n",
       " 'QmdfKcpzFAkWx3Lp7cJPp16ySNZk2jXqbDe96wPaNHhnCE': {'KR': 1},\n",
       " 'QmXv7LRoDJG6TkJNqeMHDQaybfkpnXsgnHxGMTTgC8xuqx': {'HK': 1},\n",
       " 'QmXwhtyJEWwosYMJss7F2Fk6dk8nqNhTRJtrkU4FivykvB': {'BR': 1},\n",
       " 'QmeaYCzEwJRmL9CBrjqJPywKNKUnP9KyK3V4N5Gj5EDSoj': {'KR': 1},\n",
       " 'QmVmMzqRy6TZ4XwpSipTAnEe7XMYaHvyrMbCcVSezrxwBV': {'CN': 1},\n",
       " 'QmWxCRjJihWTSBPeef4KFqJnwEw3A6eb54hRQTc5AgdAJF': {'MY': 7,\n",
       "  'FR': 2,\n",
       "  'US': 3,\n",
       "  'NL': 1,\n",
       "  '??': 1,\n",
       "  'HK': 1},\n",
       " '12D3KooWM21sqnQW5q18U4r7rESbkS1crbPWZ18gp1p83udChudr': {'CN': 1},\n",
       " '12D3KooWGZrSesrGqsc2MRJ4gsi9LeeFbzFa7XNWkdSXnHFVd615': {'CN': 58},\n",
       " '12D3KooWF4UkK8B4RJD7fJ63x5FGtWBoATpEZqvHmN53PTR8jJXd': {'FR': 1},\n",
       " 'QmZad9x222zMEUMcHnwRufbZGTiSpVCcX8F15bqdQC3dF3': {'TW': 1},\n",
       " '12D3KooWPKdAP1tLm6UCrpGvH6L3RN7BiafWMnhimBBCoxqZpZHK': {'CN': 1},\n",
       " 'QmReLnp84LBVgH5eX6Qp5roZhddfE3rskGF4orqevMYbxW': {'UA': 1},\n",
       " '12D3KooWDzKCzzfnfVZpyKdPkv3gmgfU4F28hfAADDABXx3PTHHu': {'CA': 4},\n",
       " 'QmeTb47ZwR7GVLudEKjYcKvsv4R8b6nBf2Hf9PcgFvAjcP': {'FR': 1, 'HK': 1},\n",
       " '12D3KooWEQdNPUXy8SgzCzji9oh5doBRFa668Yt8ehZXhUrWYLX3': {'CN': 3},\n",
       " '12D3KooWRSrG2ug8HMTh2jrwKmi7tGk7MiH4j38mLVo3oFZSHtNV': {'US': 1},\n",
       " 'QmPUrFbjsVHjwcnHfoHt9Szx1Y4ZonCtDNkHwvSeKmuoyZ': {'HK': 1},\n",
       " 'QmPcTh5UZrGWoffKy769h6N1quz2Uc6tXESxxEuMwwin5t': {'TW': 1},\n",
       " '12D3KooWByJqatvMwd96cAoAv9tZorwtQiGus8QvJhbhJfx97x16': {'CN': 2},\n",
       " 'QmY6nAVKLHr4BgXXc6NpPg4T9bfDsACJtpeXKyfzoM8bGr': {'HK': 1},\n",
       " 'QmbNq95hWactSBQZEQLLrwrey6WBKJhYHwoEaMrbzensHH': {'KR': 1},\n",
       " '12D3KooWSdKjBFcULjzmm253wfvio7266kkmd9Ni9NdbY58evmrn': {'CN': 39},\n",
       " 'Qmc9rZc8juWhGw6xHXFUPw8ZeqMPDp6XhvibBQbsj6Z9DV': {'CN': 1},\n",
       " 'QmcjbNureyNLaVLpcM6gnPUCYARTc2KfyEjSZidJAqcD9U': {'TW': 7},\n",
       " 'QmUck9gFMWen3zUyk1PDjMZEfzqXDbZenQbVSCQFBqBiw6': {'TW': 1},\n",
       " 'QmXFUcDb7XzpSexqznNN9Dn9JZL5YytmtiLz4cSKn2t8oL': {'BR': 20, 'FR': 1},\n",
       " 'QmVq3aYv4XQ1KgnWAo31zEi3jC4LUzY7fUFTF3cG9435jd': {'KW': 1},\n",
       " 'QmcHRsY36WWzoobruWe56Ysi5K3yaS9w6b51C8esqTJDuQ': {'RS': 1},\n",
       " '12D3KooWKjVXDtjCJW21TZnJWLt5ZrLsJaZBz1ZzQ7tdCXaGhHtV': {'US': 1},\n",
       " '12D3KooWLczzibYeaC8uyb8XvxN3TGt9wBsvL14F73srmpsZ72LQ': {'CN': 2},\n",
       " 'QmWZumeMRjHbD3Do2HVRPTbvue5sHz3PNnRSms4t46rE7H': {'UA': 1},\n",
       " '12D3KooWMioqJREXkDqsbFAe9kZpZze7yXszDbG17QYT2vpY9eD9': {'CN': 3},\n",
       " 'QmYtaKHvUgMwTz61dysckbkqTyuzTRrFAjmGUEr7CMBq3Y': {'KR': 2},\n",
       " 'QmWUgtfxZHBUKY5tePcka6zTkjdHhwzTnxqJdsdKHCZEv7': {'KR': 1},\n",
       " '12D3KooWFieJbED56rXmGvy12ig4uk4Yc1cjTcHjJWvegM4sktZc': {'CN': 1},\n",
       " '12D3KooWNw7i85XDzczeGGrbBwS6v87EGDe1LwPYquNJVue2NaUB': {'US': 2, '??': 1},\n",
       " '12D3KooWRyzKWWfXeMBnpAvGSQ1iQBXspb47o4ecoqCpvAnQewuD': {'CN': 6},\n",
       " 'QmbLu7ZeAAdoKZ5KZzRUnVruz1iwq5Kq1jijPDqQhPQRo8': {'KR': 1},\n",
       " '12D3KooWN4eLzCDbezwKSDwTvPDf78HVz7fsEic7ZYxxUC6nZDXq': {'US': 1},\n",
       " 'QmQ3qNsQHJ9PKKwLb2eAToY6GSyBf8p2basLqwMfmrpGrZ': {'BG': 1},\n",
       " 'QmZWiLHppKUjjkuqqJBe69tnyis2epzYM3Pr2ugjZHkua6': {'KR': 1},\n",
       " '12D3KooWR3AMGcXanHAVQc73PZeeWCLYnGsGWcXpKvc7PHfex6wf': {'US': 1, 'CN': 1},\n",
       " '12D3KooWJ4iQF5vVrfCJoTStz3YSSqpJ7MHz6bjbpLB6WJqGF7TY': {'CN': 2},\n",
       " 'QmXkXTE63B364EGnemtqqXpAsAdji8PvcisBRP7TfTekHh': {'KR': 1},\n",
       " '12D3KooWC6vehGyFfG8WhiKFmojsHN7PyEV9p7yTEP4vFMBfVmBT': {'CN': 2},\n",
       " 'QmPPJnaxH5QZii31zXzgo7EVs7uzxXpjn51oL6pJLBQjJ5': {'TW': 2},\n",
       " 'QmSDTJShtB2juewQ3FPtz4XPnQyFAuYcSq5cBAgWKPzR3U': {'HK': 1},\n",
       " 'QmaQVCubHUKbsSN8jNGvURzKdxitnkUvaummNpVdQQHSCM': {'KR': 1},\n",
       " 'QmR8EDpC4y5WF6gF4FjsfqKjNSMHLXD4jPd3Pa5sHwKpgj': {'TW': 1},\n",
       " 'Qmbxapb7YorLzH1PahGS2J4tLN1auqd2W1uTk5D6E9W5jV': {'KR': 1},\n",
       " '12D3KooWGCESUdEZDhr252XjTvFWNp7Nt3HugZdJmLBPQmQdAQAu': {'CN': 9},\n",
       " 'QmdpmgD1CmEfgsZZyKSLLq4do1bVVyjJUnQZj5fkvNzQ53': {'KR': 1},\n",
       " '12D3KooWHK6TUrj2aXaYs5sNhSSXNSb5ZmQ4ywkJHJXiE1X4PjKQ': {'CN': 3},\n",
       " 'QmZ7q8pj6433T1JZp34A22k7AVYNZhed8dHnafMsELSgN7': {'SE': 1},\n",
       " 'QmbzARNeypE4c61G1io2LFmQrJudSLHXiAsyUbz2XceULj': {'TW': 1},\n",
       " '12D3KooWDHqX9gPeuxBTBsaC7FAx3kFSnLc4zudgQ17TGXRFP6ys': {'CN': 1},\n",
       " 'QmTkVtoirMhRBojSLvDpUL2PZNcj9wJ6yJe5CWPzYSQDhh': {'AR': 1},\n",
       " '12D3KooWJHQGufpJ714GYP3qiDY9R1UY5peiVkqgZVdscMH7gaNQ': {'CN': 4}}"
      ]
     },
     "execution_count": 192,
     "metadata": {},
     "output_type": "execute_result"
    }
   ],
   "source": [
    "mh_country"
   ]
  },
  {
   "cell_type": "markdown",
   "id": "c7579e48",
   "metadata": {},
   "source": [
    "# Plots"
   ]
  },
  {
   "cell_type": "markdown",
   "id": "1166b8ce",
   "metadata": {},
   "source": [
    "## Routing table distribution in the k-buckets"
   ]
  },
  {
   "cell_type": "code",
   "execution_count": 29,
   "id": "f158305b",
   "metadata": {},
   "outputs": [],
   "source": [
    "density = np.average(peerids_distribution_data, axis=0)"
   ]
  },
  {
   "cell_type": "code",
   "execution_count": 30,
   "id": "4d47dc0e",
   "metadata": {
    "scrolled": true
   },
   "outputs": [
    {
     "name": "stdout",
     "output_type": "stream",
     "text": [
      "Average:             158.69\n",
      "Standard deviation:   15.47\n",
      "Max:                 239.33333333333334\n",
      "Min:                 118.66666666666667\n"
     ]
    }
   ],
   "source": [
    "print(\"Average:            \", round(np.average(density),2))\n",
    "print(\"Standard deviation:  \", round(np.std(density, ddof=1),2))\n",
    "print(\"Max:                \", max(density))\n",
    "print(\"Min:                \", min(density))"
   ]
  },
  {
   "cell_type": "code",
   "execution_count": 31,
   "id": "cfbae5f1",
   "metadata": {},
   "outputs": [],
   "source": [
    "for i in range(len(density)):\n",
    "    if density[i] == 287:\n",
    "        print(i)"
   ]
  },
  {
   "cell_type": "code",
   "execution_count": 32,
   "id": "564cf8c9",
   "metadata": {},
   "outputs": [
    {
     "data": {
      "image/png": "[encoded data removed]",
      "text/plain": [
       "<Figure size 1440x1080 with 1 Axes>"
      ]
     },
     "metadata": {},
     "output_type": "display_data"
    }
   ],
   "source": [
    "fig = plt.figure(figsize=(20,15), facecolor='white')\n",
    "plt.grid(axis='y')\n",
    "\n",
    "plt.xlabel(\"Keyspace chunk number\")\n",
    "plt.ylabel(\"Number of peers per keyspace chunk\")\n",
    "plt.title(\"Distribution of peer IDs over the keyspace\")\n",
    "\n",
    "plt.bar([x for x in range(len(density))], density, width=0.5)\n",
    "\n",
    "plt.savefig('plots/online-peerid-distribution.png',\n",
    "            bbox_inches =\"tight\",\n",
    "            pad_inches = 1,\n",
    "            transparent = False,\n",
    "            facecolor =\"w\",\n",
    "            edgecolor ='w')\n",
    "\n",
    "plt.show()"
   ]
  },
  {
   "cell_type": "code",
   "execution_count": 33,
   "id": "644f87b2",
   "metadata": {},
   "outputs": [],
   "source": [
    "density88 = np.average(peerids_distribution_chunk88_data, axis=0)"
   ]
  },
  {
   "cell_type": "code",
   "execution_count": 36,
   "id": "e50e9524",
   "metadata": {},
   "outputs": [
    {
     "name": "stdout",
     "output_type": "stream",
     "text": [
      "       prefix : occurences\n",
      "\n",
      "10110000000000: 8\n",
      "10110000000001: 13\n",
      "10110000000010: 9\n",
      "10110000000011: 9\n",
      "10110000000100: 14\n",
      "10110000000101: 12\n",
      "10110000000110: 15\n",
      "10110000000111: 12\n",
      "10110000001000: 17\n",
      "10110000001001: 63\n",
      "10110000001010: 9\n",
      "10110000001011: 12\n",
      "10110000001100: 11\n",
      "10110000001101: 10\n",
      "10110000001110: 12\n",
      "10110000001111: 9\n"
     ]
    }
   ],
   "source": [
    "print(\"       prefix : occurences\\n\")\n",
    "for i in range(len(density88)):\n",
    "    path=\"{0:b}\".format(i)           # getting binary number\n",
    "    path='0'*(levels-len(path))+path\n",
    "    path=int_to_bitstring(88,7)+path\n",
    "    \n",
    "    print(path+\":\", int(density88[i]))"
   ]
  },
  {
   "cell_type": "code",
   "execution_count": 37,
   "id": "a80dd066",
   "metadata": {},
   "outputs": [
    {
     "name": "stdout",
     "output_type": "stream",
     "text": [
      "Average:             14.96\n",
      "Standard deviation:   13.13\n",
      "Max:                 63.333333333333336\n",
      "Min:                 8.0\n"
     ]
    }
   ],
   "source": [
    "print(\"Average:            \", round(np.average(density88),2))\n",
    "print(\"Standard deviation:  \", round(np.std(density88, ddof=1),2))\n",
    "print(\"Max:                \", max(density88))\n",
    "print(\"Min:                \", min(density88))"
   ]
  },
  {
   "cell_type": "code",
   "execution_count": 38,
   "id": "fc9cf45f",
   "metadata": {},
   "outputs": [
    {
     "data": {
      "image/png": "[encoded data removed]",
      "text/plain": [
       "<Figure size 1440x1080 with 1 Axes>"
      ]
     },
     "metadata": {},
     "output_type": "display_data"
    }
   ],
   "source": [
    "fig = plt.figure(figsize=(20,15), facecolor='white')\n",
    "plt.grid(axis='y')\n",
    "\n",
    "plt.xlabel(\"Keyspace chunk number\")\n",
    "plt.ylabel(\"Number of peers per keyspace chunk\")\n",
    "plt.title(\"Distribution of peer IDs with prefix 1011000 over the keyspace\")\n",
    "\n",
    "plt.bar([x for x in range(len(density88))], density88, width=0.5)\n",
    "\n",
    "plt.savefig('plots/online-peerid-distribution.png',\n",
    "            bbox_inches =\"tight\",\n",
    "            pad_inches = 1,\n",
    "            transparent = False,\n",
    "            facecolor =\"w\",\n",
    "            edgecolor ='w')\n",
    "\n",
    "plt.show()"
   ]
  },
  {
   "cell_type": "markdown",
   "id": "b76f5f0c",
   "metadata": {},
   "source": [
    "## PeerID distribution over keyspace (all times)"
   ]
  },
  {
   "cell_type": "code",
   "execution_count": 95,
   "id": "91b972fd",
   "metadata": {},
   "outputs": [
    {
     "name": "stdout",
     "output_type": "stream",
     "text": [
      "6.655179738998413\n"
     ]
    }
   ],
   "source": [
    "startTime = time.time()\n",
    "peerids = [bytes_to_bitstring(multihash_to_kad_id(nebula_peerids[m])) for m in nebula_peerids]\n",
    "print(time.time() - startTime)"
   ]
  },
  {
   "cell_type": "code",
   "execution_count": 97,
   "id": "57f8a4fc",
   "metadata": {},
   "outputs": [
    {
     "name": "stdout",
     "output_type": "stream",
     "text": [
      "9.158364057540894\n"
     ]
    }
   ],
   "source": [
    "startTime = time.time()\n",
    "t = Trie()\n",
    "for p in peerids:\n",
    "    t.add(p)\n",
    "print(time.time() - startTime)"
   ]
  },
  {
   "cell_type": "code",
   "execution_count": 98,
   "id": "d29b8914",
   "metadata": {},
   "outputs": [],
   "source": [
    "levels=7\n",
    "density=[0]*2**levels"
   ]
  },
  {
   "cell_type": "code",
   "execution_count": 105,
   "id": "0a6fb71d",
   "metadata": {},
   "outputs": [
    {
     "name": "stdout",
     "output_type": "stream",
     "text": [
      "0.0010395050048828125\n"
     ]
    }
   ],
   "source": [
    "startTime = time.time()\n",
    "for i in range(2**levels):\n",
    "    path=\"{0:b}\".format(i)\n",
    "    path='0'*(levels-len(path))+path\n",
    "    \n",
    "    density[i]=t.find_trie(path).size\n",
    "print(time.time() - startTime)"
   ]
  },
  {
   "cell_type": "code",
   "execution_count": 100,
   "id": "bc7f032f",
   "metadata": {},
   "outputs": [
    {
     "name": "stdout",
     "output_type": "stream",
     "text": [
      "Average:             3419.62\n",
      "Standard deviation:    69.83\n",
      "Max:                 3632\n",
      "Min:                 3199\n"
     ]
    }
   ],
   "source": [
    "print(\"Average:            \", round(np.average(density),2))\n",
    "print(\"Standard deviation:   \", round(np.std(density, ddof=1),2))\n",
    "print(\"Max:                \", max(density))\n",
    "print(\"Min:                \", min(density))"
   ]
  },
  {
   "cell_type": "code",
   "execution_count": 101,
   "id": "4e78bd55",
   "metadata": {},
   "outputs": [
    {
     "data": {
      "image/png": "[encoded data removed]",
      "text/plain": [
       "<Figure size 1440x1080 with 1 Axes>"
      ]
     },
     "metadata": {},
     "output_type": "display_data"
    }
   ],
   "source": [
    "fig = plt.figure(figsize=(20,15), facecolor='white')\n",
    "plt.grid(axis='y')\n",
    "\n",
    "plt.xlabel(\"Keyspace chunk number\")\n",
    "plt.ylabel(\"Number of peers per keyspace chunk\")\n",
    "plt.title(\"Distribution of peer IDs over the keyspace\")\n",
    "\n",
    "plt.bar([x for x in range(len(density))], density, width=0.5)\n",
    "\n",
    "plt.savefig('plots/peerid-distribution.png',\n",
    "            bbox_inches =\"tight\",\n",
    "            pad_inches = 1,\n",
    "            transparent = False,\n",
    "            facecolor =\"w\",\n",
    "            edgecolor ='w')\n",
    "\n",
    "plt.show()"
   ]
  },
  {
   "cell_type": "code",
   "execution_count": 102,
   "id": "5b4ccaa8",
   "metadata": {},
   "outputs": [
    {
     "data": {
      "image/png": "[encoded data removed]",
      "text/plain": [
       "<Figure size 1440x1080 with 1 Axes>"
      ]
     },
     "metadata": {},
     "output_type": "display_data"
    }
   ],
   "source": [
    "fig = plt.figure(figsize=(20,15), facecolor='white')\n",
    "plt.grid(axis='y')\n",
    "\n",
    "plt.ylim(top=3700, bottom=3100)\n",
    "plt.xlabel(\"Keyspace chunk number\")\n",
    "plt.ylabel(\"Number of peers per keyspace chunk\")\n",
    "plt.title(\"Distribution of peer IDs over the keyspace\")\n",
    "\n",
    "plt.bar([x for x in range(len(density))], density, width=0.5)\n",
    "\n",
    "plt.savefig('plots/peerid-distribution.png',\n",
    "            bbox_inches =\"tight\",\n",
    "            pad_inches = 1,\n",
    "            transparent = False,\n",
    "            facecolor =\"w\",\n",
    "            edgecolor ='w')\n",
    "\n",
    "plt.show()"
   ]
  },
  {
   "cell_type": "code",
   "execution_count": 269,
   "id": "015c2cc9",
   "metadata": {},
   "outputs": [],
   "source": [
    "levels88_global = 4\n",
    "density88_global = [0] * 2**levels88_global\n",
    "for i in range(2**levels88_global):\n",
    "    path=\"{0:b}\".format(i)           # getting binary number\n",
    "    path='0'*(levels88_global-len(path))+path # zero padding for constant size bitstring\n",
    "    path=int_to_bitstring(88,7)+path\n",
    "\n",
    "    for p in peerids:\n",
    "        if p[:len(path)] == path:\n",
    "            density88_global[i]+=1\n",
    "\n"
   ]
  },
  {
   "cell_type": "code",
   "execution_count": 287,
   "id": "be6feb61",
   "metadata": {},
   "outputs": [
    {
     "name": "stdout",
     "output_type": "stream",
     "text": [
      "       prefix : occurences\n",
      "\n",
      "10110000000000: 228\n",
      "10110000000001: 207\n",
      "10110000000010: 226\n",
      "10110000000011: 223\n",
      "10110000000100: 226\n",
      "10110000000101: 196\n",
      "10110000000110: 215\n",
      "10110000000111: 212\n",
      "10110000001000: 206\n",
      "10110000001001: 269\n",
      "10110000001010: 241\n",
      "10110000001011: 219\n",
      "10110000001100: 239\n",
      "10110000001101: 191\n",
      "10110000001110: 228\n",
      "10110000001111: 210\n"
     ]
    }
   ],
   "source": [
    "print(\"       prefix : occurences\\n\")\n",
    "for i in range(len(density88_global)):\n",
    "    path=\"{0:b}\".format(i)           # getting binary number\n",
    "    path='0'*(levels-len(path))+path\n",
    "    path=int_to_bitstring(88,7)+path\n",
    "    \n",
    "    print(path+\":\", int(density88_global[i]))"
   ]
  },
  {
   "cell_type": "code",
   "execution_count": 270,
   "id": "56b44f13",
   "metadata": {},
   "outputs": [
    {
     "data": {
      "image/png": "[encoded data removed]",
      "text/plain": [
       "<Figure size 1440x1080 with 1 Axes>"
      ]
     },
     "metadata": {},
     "output_type": "display_data"
    }
   ],
   "source": [
    "fig = plt.figure(figsize=(20,15), facecolor='white')\n",
    "plt.grid(axis='y')\n",
    "\n",
    "plt.xlabel(\"Keyspace chunk number\")\n",
    "plt.ylabel(\"Number of peers per keyspace chunk\")\n",
    "plt.title(\"Distribution of peer IDs with prefix 1011000 over the keyspace\")\n",
    "\n",
    "plt.bar([x for x in range(len(density88_global))], density88_global, width=0.5)\n",
    "\n",
    "plt.savefig('plots/online-peerid-distribution.png',\n",
    "            bbox_inches =\"tight\",\n",
    "            pad_inches = 1,\n",
    "            transparent = False,\n",
    "            facecolor =\"w\",\n",
    "            edgecolor ='w')\n",
    "\n",
    "plt.show()"
   ]
  },
  {
   "cell_type": "code",
   "execution_count": null,
   "id": "1a046cc5",
   "metadata": {},
   "outputs": [],
   "source": []
  }
 ],
 "metadata": {
  "kernelspec": {
   "display_name": "Python 3 (ipykernel)",
   "language": "python",
   "name": "python3"
  },
  "language_info": {
   "codemirror_mode": {
    "name": "ipython",
    "version": 3
   },
   "file_extension": ".py",
   "mimetype": "text/x-python",
   "name": "python",
   "nbconvert_exporter": "python",
   "pygments_lexer": "ipython3",
   "version": "3.10.5"
  }
 },
 "nbformat": 4,
 "nbformat_minor": 5
}
