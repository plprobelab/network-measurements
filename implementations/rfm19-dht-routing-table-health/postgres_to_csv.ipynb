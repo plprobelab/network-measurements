{
 "cells": [
  {
   "cell_type": "code",
   "execution_count": 2,
   "id": "d197f799",
   "metadata": {},
   "outputs": [],
   "source": [
    "import csv, psycopg2"
   ]
  },
  {
   "cell_type": "code",
   "execution_count": 3,
   "id": "e57af8a9",
   "metadata": {},
   "outputs": [],
   "source": [
    "conn = psycopg2.connect(\"host=127.0.0.1 dbname=nebula_ipfs_2022_05_03 user=postgres\")\n",
    "cur = conn.cursor()\n",
    "cur.execute(\"select id,multi_hash from peers limit 10;\")\n",
    "_ = cur.fetchall()"
   ]
  },
  {
   "cell_type": "code",
   "execution_count": 4,
   "id": "ed24c12b",
   "metadata": {},
   "outputs": [],
   "source": [
    "cur.execute(\"select peer_id,neighbor_ids from neighbors where crawl_id=2 limit 10;\")\n",
    "_ = cur.fetchall()"
   ]
  },
  {
   "cell_type": "code",
   "execution_count": 5,
   "id": "4b8f8c52",
   "metadata": {},
   "outputs": [],
   "source": [
    "cur.execute(\"select id,multi_hash from peers;\")\n",
    "peerids = {x[0]:x[1] for x in cur.fetchall()} # nebulaID -> peerID"
   ]
  },
  {
   "cell_type": "code",
   "execution_count": 6,
   "id": "ab75920c",
   "metadata": {},
   "outputs": [],
   "source": [
    "total_crawls = 3525"
   ]
  },
  {
   "cell_type": "code",
   "execution_count": 7,
   "id": "587b39b0",
   "metadata": {},
   "outputs": [],
   "source": [
    "n_crawls = 2 * 24 * 2 # 2 days of crawls (1 crawl every 30 minutes)"
   ]
  },
  {
   "cell_type": "code",
   "execution_count": 8,
   "id": "774c942a",
   "metadata": {},
   "outputs": [
    {
     "name": "stdout",
     "output_type": "stream",
     "text": [
      "0\n",
      "1\n",
      "2\n",
      "3\n",
      "4\n",
      "5\n",
      "6\n",
      "7\n",
      "8\n",
      "9\n",
      "10\n",
      "11\n",
      "12\n",
      "13\n",
      "14\n",
      "15\n",
      "16\n",
      "17\n",
      "18\n",
      "19\n",
      "20\n",
      "21\n",
      "22\n",
      "23\n",
      "24\n",
      "25\n",
      "26\n",
      "27\n",
      "28\n",
      "29\n",
      "30\n",
      "31\n",
      "32\n",
      "33\n",
      "34\n",
      "35\n",
      "36\n",
      "37\n",
      "38\n",
      "39\n",
      "40\n",
      "41\n",
      "42\n",
      "43\n",
      "44\n",
      "45\n",
      "46\n",
      "47\n",
      "48\n",
      "49\n",
      "50\n",
      "51\n",
      "52\n",
      "53\n",
      "54\n",
      "55\n",
      "56\n",
      "57\n",
      "58\n",
      "59\n",
      "60\n",
      "61\n",
      "62\n",
      "63\n",
      "64\n",
      "65\n",
      "66\n",
      "67\n",
      "68\n",
      "69\n",
      "70\n",
      "71\n",
      "72\n",
      "73\n",
      "74\n",
      "75\n",
      "76\n",
      "77\n",
      "78\n",
      "79\n",
      "80\n",
      "81\n",
      "82\n",
      "83\n",
      "84\n",
      "85\n",
      "86\n",
      "87\n",
      "88\n",
      "89\n",
      "90\n",
      "91\n",
      "92\n",
      "93\n",
      "94\n",
      "95\n",
      "96\n"
     ]
    }
   ],
   "source": [
    "nebula_peers = []\n",
    "for n in range(total_crawls - n_crawls - 1, total_crawls):\n",
    "    print(n - (total_crawls - n_crawls - 1))\n",
    "    cur.execute(\"select peer_id,neighbor_ids from neighbors where crawl_id=\"+str(n)+\";\")\n",
    "    neighbors_rel = cur.fetchall()\n",
    "    nebula_peers += [[n, nebula_id, peerids[nebula_id]] + (neighbors if neighbors is not None else []) for (nebula_id, neighbors) in neighbors_rel]"
   ]
  },
  {
   "cell_type": "code",
   "execution_count": 9,
   "id": "0c19982a",
   "metadata": {},
   "outputs": [],
   "source": [
    "filename = \"nebula-peers-2.csv\""
   ]
  },
  {
   "cell_type": "code",
   "execution_count": 10,
   "id": "e084e692",
   "metadata": {},
   "outputs": [],
   "source": [
    "with open(filename, 'w') as f:\n",
    "    writer = csv.writer(f)\n",
    "    writer.writerows(nebula_peers)"
   ]
  },
  {
   "cell_type": "code",
   "execution_count": null,
   "id": "8578978d",
   "metadata": {},
   "outputs": [],
   "source": []
  }
 ],
 "metadata": {
  "kernelspec": {
   "display_name": "Python 3 (ipykernel)",
   "language": "python",
   "name": "python3"
  },
  "language_info": {
   "codemirror_mode": {
    "name": "ipython",
    "version": 3
   },
   "file_extension": ".py",
   "mimetype": "text/x-python",
   "name": "python",
   "nbconvert_exporter": "python",
   "pygments_lexer": "ipython3",
   "version": "3.10.5"
  }
 },
 "nbformat": 4,
 "nbformat_minor": 5
}
