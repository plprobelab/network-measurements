{
 "cells": [
  {
   "cell_type": "code",
   "execution_count": 1,
   "id": "d197f799",
   "metadata": {},
   "outputs": [],
   "source": [
    "import csv, psycopg2"
   ]
  },
  {
   "cell_type": "code",
   "execution_count": 2,
   "id": "e57af8a9",
   "metadata": {},
   "outputs": [],
   "source": [
    "conn = psycopg2.connect(\"host=127.0.0.1 dbname=nebula_ipfs_2022_05_03 user=postgres\")\n",
    "cur = conn.cursor()"
   ]
  },
  {
   "cell_type": "code",
   "execution_count": 3,
   "id": "4b8f8c52",
   "metadata": {},
   "outputs": [],
   "source": [
    "cur.execute(\"select id,multi_hash from peers;\")\n",
    "peerids = {x[0]:x[1] for x in cur.fetchall()} # nebulaID -> peerID"
   ]
  },
  {
   "cell_type": "code",
   "execution_count": 4,
   "id": "bd5d4fd6",
   "metadata": {},
   "outputs": [],
   "source": [
    "with open(\"data/all-peerids.csv\", 'w') as f:\n",
    "    writer = csv.writer(f)\n",
    "    writer.writerows([(p, peerids[p]) for p in peerids])"
   ]
  },
  {
   "cell_type": "code",
   "execution_count": 5,
   "id": "ab75920c",
   "metadata": {},
   "outputs": [],
   "source": [
    "cur.execute(\"select distinct(crawl_id) from neighbors;\")\n",
    "crawl_ids=[c[0] for c in cur.fetchall()]"
   ]
  },
  {
   "cell_type": "code",
   "execution_count": 6,
   "id": "13e33908",
   "metadata": {},
   "outputs": [
    {
     "name": "stdout",
     "output_type": "stream",
     "text": [
      "3522\n",
      "3525\n"
     ]
    }
   ],
   "source": [
    "print(len(crawl_ids))\n",
    "print(max(crawl_ids))"
   ]
  },
  {
   "cell_type": "code",
   "execution_count": 7,
   "id": "e46bc19a",
   "metadata": {},
   "outputs": [
    {
     "name": "stdout",
     "output_type": "stream",
     "text": [
      "1729\n",
      "3521\n",
      "3524\n"
     ]
    }
   ],
   "source": [
    "for i in range (1, max(crawl_ids)):\n",
    "    if i not in crawl_ids:\n",
    "        print(i)"
   ]
  },
  {
   "cell_type": "code",
   "execution_count": 8,
   "id": "1539f20a",
   "metadata": {},
   "outputs": [],
   "source": [
    "def store_crawls_in_csv(crawl_ids, filename):\n",
    "    nebula_peers = []\n",
    "    for n in crawl_ids:\n",
    "        cur.execute(\"select peer_id,neighbor_ids from neighbors where crawl_id=\"+str(n)+\";\")\n",
    "        neighbors_rel = cur.fetchall()\n",
    "        nebula_peers += [[n, nebula_id, peerids[nebula_id]] + (neighbors if neighbors is not None else []) for (nebula_id, neighbors) in neighbors_rel]\n",
    "        \n",
    "    #with open(filename, 'w'):\n",
    "    f = open(filename, 'w')\n",
    "    writer = csv.writer(f)\n",
    "    writer.writerows(nebula_peers)\n",
    "        \n",
    "    f.close()"
   ]
  },
  {
   "cell_type": "code",
   "execution_count": 48,
   "id": "18271040",
   "metadata": {},
   "outputs": [],
   "source": [
    "r = [3518 + i for i in range(2)] # 2 crawls\n",
    "store_crawls_in_csv(r, \"data/nebula-peers-2crawls.csv\")"
   ]
  },
  {
   "cell_type": "code",
   "execution_count": 47,
   "id": "a37d9510",
   "metadata": {},
   "outputs": [],
   "source": [
    "r = [3515 + i for i in range(5)] # 5 crawls\n",
    "store_crawls_in_csv(r, \"data/nebula-peers-5crawls.csv\")"
   ]
  },
  {
   "cell_type": "code",
   "execution_count": 9,
   "id": "acbe00ec",
   "metadata": {},
   "outputs": [],
   "source": [
    "r = [3000 + 12*i for i in range(28)] # 7 days, 4 crawls per day = 28 crawls (taken every 6 hours, 1 every 12 crawls)\n",
    "store_crawls_in_csv(r, \"data/nebula-peers-1week.csv\")"
   ]
  },
  {
   "cell_type": "code",
   "execution_count": null,
   "id": "a8df6e9d",
   "metadata": {},
   "outputs": [],
   "source": []
  }
 ],
 "metadata": {
  "kernelspec": {
   "display_name": "Python 3 (ipykernel)",
   "language": "python",
   "name": "python3"
  },
  "language_info": {
   "codemirror_mode": {
    "name": "ipython",
    "version": 3
   },
   "file_extension": ".py",
   "mimetype": "text/x-python",
   "name": "python",
   "nbconvert_exporter": "python",
   "pygments_lexer": "ipython3",
   "version": "3.10.5"
  }
 },
 "nbformat": 4,
 "nbformat_minor": 5
}
