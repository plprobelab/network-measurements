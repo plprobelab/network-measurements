{
 "cells": [
  {
   "cell_type": "markdown",
   "id": "b04b8ca3",
   "metadata": {},
   "source": [
    "# Python Binary Trie\n",
    "Github: [py-binary-trie](https://github.com/guillaumemichel/py-binary-trie)\n",
    "\n",
    "Pypi: [binary-trie](https://pypi.org/project/binary-trie/)\n",
    "\n",
    "Install with `pip install binary-trie`"
   ]
  },
  {
   "cell_type": "code",
   "execution_count": 2,
   "id": "df0c813c",
   "metadata": {},
   "outputs": [],
   "source": [
    "from binary_trie import Trie, bytes_to_bitstring, bitstring_to_bytes, int_to_bitstring, bitstring_to_int"
   ]
  },
  {
   "cell_type": "code",
   "execution_count": 3,
   "id": "3c55c1d4",
   "metadata": {},
   "outputs": [
    {
     "data": {
      "text/plain": [
       "True"
      ]
     },
     "execution_count": 3,
     "metadata": {},
     "output_type": "execute_result"
    }
   ],
   "source": [
    "trie = Trie()\n",
    "trie.add(\"0010\")\n",
    "trie.add(4*\"0\")\n",
    "trie.add(int_to_bitstring(3, l=4))\n",
    "trie.add(bytes_to_bitstring(b'\\x0e', l=4))"
   ]
  },
  {
   "cell_type": "code",
   "execution_count": 4,
   "id": "71b6cb08",
   "metadata": {},
   "outputs": [
    {
     "data": {
      "text/plain": [
       "True"
      ]
     },
     "execution_count": 4,
     "metadata": {},
     "output_type": "execute_result"
    }
   ],
   "source": [
    "trie.find(\"0010\") # True"
   ]
  },
  {
   "cell_type": "code",
   "execution_count": 5,
   "id": "c4f45b68",
   "metadata": {},
   "outputs": [
    {
     "data": {
      "text/plain": [
       "False"
      ]
     },
     "execution_count": 5,
     "metadata": {},
     "output_type": "execute_result"
    }
   ],
   "source": [
    "trie.find(\"0100\") # False"
   ]
  },
  {
   "cell_type": "markdown",
   "id": "72bbfad9",
   "metadata": {},
   "source": [
    "## Building a basic trie"
   ]
  },
  {
   "cell_type": "code",
   "execution_count": 6,
   "id": "6623b300",
   "metadata": {},
   "outputs": [],
   "source": [
    "t = Trie()\n",
    "\n",
    "nodeIDs = [2,3,4,6,7,9,11,13]\n",
    "for i in nodeIDs:\n",
    "    t.add(int_to_bitstring(i, 4))"
   ]
  },
  {
   "cell_type": "markdown",
   "id": "65d9ceef",
   "metadata": {},
   "source": [
    "<img title=\"a title\" alt=\"Alt text\" src=\"./trie.svg\">"
   ]
  },
  {
   "cell_type": "code",
   "execution_count": 7,
   "id": "2e013681",
   "metadata": {},
   "outputs": [
    {
     "data": {
      "text/plain": [
       "['0100', '0111', '0110']"
      ]
     },
     "execution_count": 7,
     "metadata": {},
     "output_type": "execute_result"
    }
   ],
   "source": [
    "t.n_closest(\"0101\", 3)"
   ]
  },
  {
   "cell_type": "code",
   "execution_count": 8,
   "id": "853249e3",
   "metadata": {},
   "outputs": [
    {
     "data": {
      "text/plain": [
       "['0110', '0111', '0100', '0010', '0011', '1101', '1011', '1001']"
      ]
     },
     "execution_count": 8,
     "metadata": {},
     "output_type": "execute_result"
    }
   ],
   "source": [
    "t.n_closest(\"0110\", 8)"
   ]
  },
  {
   "cell_type": "markdown",
   "id": "296f2b6b",
   "metadata": {},
   "source": [
    "## IPFS nodes"
   ]
  },
  {
   "cell_type": "code",
   "execution_count": 9,
   "id": "83c1e4d2",
   "metadata": {},
   "outputs": [],
   "source": [
    "import csv\n",
    "\n",
    "filename = \"nebula-peers.csv\"\n",
    "with open(filename, 'r') as file:\n",
    "    nebula_peers = [line for line in csv.reader(file)]"
   ]
  },
  {
   "cell_type": "code",
   "execution_count": 10,
   "id": "d1e6b028",
   "metadata": {},
   "outputs": [],
   "source": [
    "import multihash as mh\n",
    "import hashlib as hl  \n",
    "\n",
    "def multihash_to_kad_id(peer_id: str) -> bytes:  \n",
    "    multi_hash = mh.from_b58_string(peer_id)\n",
    "    return hl.sha256(multi_hash).digest()\n",
    "\n",
    "# this should be a clean way (even if it could be done in less lines it is more readable)\n",
    "def xor_distance(bytes0: bytes, bytes1: bytes):\n",
    "    xor=bytearray()\n",
    "    maxlen=max(len(bytes0), len(bytes1))\n",
    "\n",
    "    for i in range(maxlen):\n",
    "        byte0 = bytes0[i if len(bytes0)>len(bytes1) else i-len(bytes1)+len(bytes0)] if i >= maxlen-len(bytes0) else 0\n",
    "        byte1 = bytes1[i if len(bytes1)>len(bytes0) else i-len(bytes0)+len(bytes1)] if i >= maxlen-len(bytes1) else 0\n",
    "        xor.append(byte0 ^ byte1)\n",
    "\n",
    "    return bytes(xor)\n",
    "\n",
    "def bit_string_to_bytes(s):\n",
    "    v = int(s, 2)\n",
    "    b = bytearray()\n",
    "    while v:\n",
    "        b.append(v & 0xff)\n",
    "        v >>= 8\n",
    "    return bytes(b[::-1])\n",
    "\n",
    "# get the corresponding k-bucket for the given XOR distance in bytes\n",
    "def bucket_number_for_distance(d: bytes) -> int:\n",
    "    count=0\n",
    "    # iterate on the bytes from left to right\n",
    "    for b in d:\n",
    "        # while the byte==0, add 8 (bits) to the counter\n",
    "        count+=8\n",
    "        if b!=0:\n",
    "            # at the first non null byte, shift right until this byte==0\n",
    "            while b!=0:\n",
    "                b>>=1\n",
    "                # for each right shift, remove 1 to counter\n",
    "                count-=1\n",
    "            break\n",
    "    # return the length of the byte string minus the number of leading 0 bits\n",
    "    return 256-(8*len(d)-count)\n",
    "\n",
    "\n",
    "class NebulaPeer:\n",
    "    def __init__(self, nebula_id, peer_id, neighbors_ids):\n",
    "        self.nebula_id = nebula_id\n",
    "        self.peer_id = peer_id\n",
    "        self.neighbors_ids = neighbors_ids\n",
    "        \n",
    "        self.key = multihash_to_kad_id(peer_id)\n",
    "        \n",
    "        self.alive = len(neighbors_ids)>0\n",
    "        \n",
    "        self.buckets = [[] for _ in range(257)]\n",
    "        self.neighbors = []\n",
    "        \n",
    "    def distance(self, p):\n",
    "        return xor_distance(self.key, p.key)\n",
    "        \n",
    "    def addNeighbor(self, peer):\n",
    "        self.neighbors.append(peer)\n",
    "        self.buckets[bucket_number_for_distance(self.distance(peer))].append(peer)\n",
    "        \n",
    "    def __str__(self):\n",
    "        return \"nebula_id: \"+str(self.nebula_id)+\", peer_id: \"+str(self.peer_id)+\", neighbors: \"+str(self.neighbors_ids)"
   ]
  },
  {
   "cell_type": "code",
   "execution_count": 11,
   "id": "516ec259",
   "metadata": {},
   "outputs": [],
   "source": [
    "peers = {line[0]: NebulaPeer(line[0], line[1], line[2:]) for line in nebula_peers}"
   ]
  },
  {
   "cell_type": "code",
   "execution_count": 14,
   "id": "e62754cc",
   "metadata": {},
   "outputs": [
    {
     "name": "stdout",
     "output_type": "stream",
     "text": [
      "30453\n"
     ]
    }
   ],
   "source": [
    "print(len(peers))"
   ]
  },
  {
   "cell_type": "code",
   "execution_count": 12,
   "id": "21d43c1d",
   "metadata": {},
   "outputs": [],
   "source": [
    "t = Trie()\n",
    "for p in peers:\n",
    "    t.add(bytes_to_bitstring(peers[p].key))"
   ]
  },
  {
   "cell_type": "code",
   "execution_count": 13,
   "id": "c791f1ba",
   "metadata": {},
   "outputs": [
    {
     "data": {
      "text/plain": [
       "['1111111111111100000111001011001111111110101001111001010111011011110010000111111100000100011100000000110110010001100101010100010000010010001100101000100111011100100101101110101011000011011111111101011001101001101111010011000001000010011001011010100001101100',\n",
       " '1111111111111001010100100010110001110011111101011110101110101011000111111000110111100010010001100110101101011110101101111010000001000101110001001110011000101110111010000101101000100110101101100000101110000010101001110100001101111010101101101100000001011010',\n",
       " '1111111111111010101100100101001111110001001110000010100000001011010000001011100101010010010000111011101100000100010011100101001111101010010101000001001101111111000000101001010110100011000001001111011100101110000001010010111011110110100010000101011000011100',\n",
       " '1111111111110100010011100101011100011111100110001011100000010011001010110100101101000110101100110010010010100111000000001100011010100011001001100100010100000101010010100000100011101100010001111000001010011010001100001100010000101101000111000000110001011011',\n",
       " '1111111111110010000111001110111110100011001011110001110011110100110001001010011101001111010101001001101011111010000001110111011011111100000010000000101011101010111001101011001111011000111001100011000111111000101110111010101110100110001000011110110101001000',\n",
       " '1111111111110010010101111111111001000001001101110101011101101010000010001001010101101001001100100101000101100000111100000100100101001110111000001101111011000110111011101011011111100010111000110101110101000010011111110000111101110011010110111101000111001000',\n",
       " '1111111111101000000100010101010100011010000011011000101011000110111100100011001000011010100010100010000011001001111111110001010111010100110110001011101110011010100111011101010001111001010000010000000101111110010100010100100100110001111110100001011111000010',\n",
       " '1111111111101010100110111010011010101011111000000011100011010100010000101100010011000010110111001101001011100000111100000100110100100011100111001100001010010001111001101100100011001001011001110000111101100111111001011010110001100010001110011100111010100111',\n",
       " '1111111111100100110100010101011010011111010101010001100101100110011110100100001110100110101100000011000101110100011000110011110011110100001000101010111010001001001000111110110101011001011001100010111100110001010011000101100100111100001010111011000001100111',\n",
       " '1111111111011101110011100010110100110111101001110010110100001010000101100111001001000000001111010001110010000101011001101010111001010101100111101110001110000101110110001000110000101011100001100011010101111101110001100000101001000100101011101101000101011000',\n",
       " '1111111111011111001011001001101000110111010100011101110001001010001111110000111011011101001000011100011001010100000000111101110101000100111101111110010100101100111100010010001101110000001101000101111100101010010101010110011001010100100001100010010011110110',\n",
       " '1111111111010100100111101110100010010000001100001100001101011010110001101011010100010111111000111101011011000010100010010010000111011000000011011001100010011010100001001111000100011111100111011000111101011100110101101111000000000001010011000010010110001000',\n",
       " '1111111111010101001110110111101011010111010111111001001001000110101111001101110110010111100010001011100110010000011011001110001111101010100101110100010101000101110011001000110011111000101001101010100101010010110100101000110001101000011011001010100101100101',\n",
       " '1111111111010110000111111100110011001101100111110110000110111100010010010000001001010111010111011111010100010011001011011011011100000100100111000011000001011010011101001000111110101100101100110111111001101111011001000011011110100110110011111001010111110001',\n",
       " '1111111111010000110000010100001000101001001000010011101101101100000010111110101111011100110101110111010101100110110000001111000000010101000000001110110011011110011001011010110001011101100011000000000010110101010111101011011101101000000110001111010100111000',\n",
       " '1111111111010001000000010110100000010010111001110000111000000110100000000010101001011001111000011101111110000011001110101000111101000110110010000111010010100000000111101010110010101000000000111011101001110010100101100011111100000000011000000011110110010101',\n",
       " '1111111111000100100010110101101001001000100011101001011100010111110111010010100100001111100110100001001000010100011001110100001110101100011100110000000111101001001111100111101101010110001111100100111101000010000010100011111111010100100100111111100100001100',\n",
       " '1111111111000111101100100000100001100101000100101110111110101011011111110110101011001000001010011100101001110010111110001110011010111101011110011101001011010111111010100011100111000011011111110001100011001001100111111011010100010110010111011100010101010000',\n",
       " '1111111111000000011100001001010100011111010000000010010111100000101010111110111001101111110001110100101110000000011011011100001000000111100100111010000100111001110001111100010010110101111110111111001100010010011110100111001000110001000000000111001010101110',\n",
       " '1111111111000001110001000001001001110100101111000110100010011000000111110001010010111100010011101011011100000100100101011000011011100000010100001101100101110001110011010100001000011001001110110111010111111010000111101101001111111100000110000010111000011111']"
      ]
     },
     "execution_count": 13,
     "metadata": {},
     "output_type": "execute_result"
    }
   ],
   "source": [
    "key=\"1111111111111100000111001011001111111110101001111001010111011011110010000111111100000100011100000000110110010001100101010100010000010010001100101000100111011100100101101110101011000011011111111101011001101001101111010011000001000010011001011010100001101100\"\n",
    "t.n_closest(key, 20)"
   ]
  },
  {
   "cell_type": "code",
   "execution_count": null,
   "id": "acc6065b",
   "metadata": {},
   "outputs": [],
   "source": []
  }
 ],
 "metadata": {
  "kernelspec": {
   "display_name": "Python 3 (ipykernel)",
   "language": "python",
   "name": "python3"
  },
  "language_info": {
   "codemirror_mode": {
    "name": "ipython",
    "version": 3
   },
   "file_extension": ".py",
   "mimetype": "text/x-python",
   "name": "python",
   "nbconvert_exporter": "python",
   "pygments_lexer": "ipython3",
   "version": "3.10.5"
  }
 },
 "nbformat": 4,
 "nbformat_minor": 5
}
